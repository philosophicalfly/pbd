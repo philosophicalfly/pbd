{
 "cells": [
  {
   "cell_type": "code",
   "execution_count": 7,
   "id": "b09306d0",
   "metadata": {},
   "outputs": [
    {
     "name": "stdout",
     "output_type": "stream",
     "text": [
      "Requirement already satisfied: pandas in ./myenv/lib/python3.11/site-packages (2.0.0)\n",
      "Requirement already satisfied: numpy in ./myenv/lib/python3.11/site-packages (1.24.2)\n",
      "Requirement already satisfied: seaborn in ./myenv/lib/python3.11/site-packages (0.12.2)\n",
      "Requirement already satisfied: matplotlib in ./myenv/lib/python3.11/site-packages (3.7.1)\n",
      "Requirement already satisfied: python-dateutil>=2.8.2 in ./myenv/lib/python3.11/site-packages (from pandas) (2.8.2)\n",
      "Requirement already satisfied: pytz>=2020.1 in ./myenv/lib/python3.11/site-packages (from pandas) (2023.3)\n",
      "Requirement already satisfied: tzdata>=2022.1 in ./myenv/lib/python3.11/site-packages (from pandas) (2023.3)\n",
      "Requirement already satisfied: contourpy>=1.0.1 in ./myenv/lib/python3.11/site-packages (from matplotlib) (1.0.7)\n",
      "Requirement already satisfied: cycler>=0.10 in ./myenv/lib/python3.11/site-packages (from matplotlib) (0.11.0)\n",
      "Requirement already satisfied: fonttools>=4.22.0 in ./myenv/lib/python3.11/site-packages (from matplotlib) (4.39.3)\n",
      "Requirement already satisfied: kiwisolver>=1.0.1 in ./myenv/lib/python3.11/site-packages (from matplotlib) (1.4.4)\n",
      "Requirement already satisfied: packaging>=20.0 in ./myenv/lib/python3.11/site-packages (from matplotlib) (23.0)\n",
      "Requirement already satisfied: pillow>=6.2.0 in ./myenv/lib/python3.11/site-packages (from matplotlib) (9.5.0)\n",
      "Requirement already satisfied: pyparsing>=2.3.1 in ./myenv/lib/python3.11/site-packages (from matplotlib) (3.0.9)\n",
      "Requirement already satisfied: six>=1.5 in ./myenv/lib/python3.11/site-packages (from python-dateutil>=2.8.2->pandas) (1.16.0)\n"
     ]
    }
   ],
   "source": [
    "%pip install pandas numpy seaborn matplotlib "
   ]
  },
  {
   "cell_type": "code",
   "execution_count": 8,
   "id": "9d83575b",
   "metadata": {},
   "outputs": [],
   "source": [
    "# Importing stuff\n",
    "\n",
    "import pandas as pd\n",
    "import warnings\n",
    "warnings.filterwarnings(\"ignore\")"
   ]
  },
  {
   "cell_type": "code",
   "execution_count": 12,
   "id": "bb56d6b2",
   "metadata": {},
   "outputs": [],
   "source": [
    "# Read the data\n",
    "CourseInfo = pd.read_csv(\"./Course_info.csv\")\n",
    "Comments = pd.read_csv(\"./Comments.csv\")"
   ]
  },
  {
   "cell_type": "code",
   "execution_count": 18,
   "id": "493f10d0",
   "metadata": {},
   "outputs": [
    {
     "data": {
      "text/html": [
       "<div>\n",
       "<style scoped>\n",
       "    .dataframe tbody tr th:only-of-type {\n",
       "        vertical-align: middle;\n",
       "    }\n",
       "\n",
       "    .dataframe tbody tr th {\n",
       "        vertical-align: top;\n",
       "    }\n",
       "\n",
       "    .dataframe thead th {\n",
       "        text-align: right;\n",
       "    }\n",
       "</style>\n",
       "<table border=\"1\" class=\"dataframe\">\n",
       "  <thead>\n",
       "    <tr style=\"text-align: right;\">\n",
       "      <th></th>\n",
       "      <th>id</th>\n",
       "      <th>title</th>\n",
       "      <th>is_paid</th>\n",
       "      <th>price</th>\n",
       "      <th>headline</th>\n",
       "      <th>num_subscribers</th>\n",
       "      <th>avg_rating</th>\n",
       "      <th>num_reviews</th>\n",
       "      <th>num_comments</th>\n",
       "      <th>num_lectures</th>\n",
       "      <th>content_length_min</th>\n",
       "      <th>published_time</th>\n",
       "      <th>last_update_date</th>\n",
       "      <th>category</th>\n",
       "      <th>subcategory</th>\n",
       "      <th>topic</th>\n",
       "      <th>language</th>\n",
       "      <th>course_url</th>\n",
       "      <th>instructor_name</th>\n",
       "      <th>instructor_url</th>\n",
       "    </tr>\n",
       "  </thead>\n",
       "  <tbody>\n",
       "    <tr>\n",
       "      <th>0</th>\n",
       "      <td>4715.0</td>\n",
       "      <td>Online Vegan Vegetarian Cooking School</td>\n",
       "      <td>True</td>\n",
       "      <td>24.99</td>\n",
       "      <td>Learn to cook delicious vegan recipes. Filmed ...</td>\n",
       "      <td>2231.0</td>\n",
       "      <td>3.75</td>\n",
       "      <td>134.0</td>\n",
       "      <td>42.0</td>\n",
       "      <td>37.0</td>\n",
       "      <td>1268.0</td>\n",
       "      <td>2010-08-05T22:06:13Z</td>\n",
       "      <td>2020-11-06</td>\n",
       "      <td>Lifestyle</td>\n",
       "      <td>Food &amp; Beverage</td>\n",
       "      <td>Vegan Cooking</td>\n",
       "      <td>English</td>\n",
       "      <td>/course/vegan-vegetarian-cooking-school/</td>\n",
       "      <td>Angela Poch</td>\n",
       "      <td>/user/angelapoch/</td>\n",
       "    </tr>\n",
       "    <tr>\n",
       "      <th>1</th>\n",
       "      <td>1769.0</td>\n",
       "      <td>The Lean Startup Talk at Stanford E-Corner</td>\n",
       "      <td>False</td>\n",
       "      <td>0.00</td>\n",
       "      <td>Debunking Myths of Entrepreneurship A startup ...</td>\n",
       "      <td>26474.0</td>\n",
       "      <td>4.50</td>\n",
       "      <td>709.0</td>\n",
       "      <td>112.0</td>\n",
       "      <td>9.0</td>\n",
       "      <td>88.0</td>\n",
       "      <td>2010-01-12T18:09:46Z</td>\n",
       "      <td>NaN</td>\n",
       "      <td>Business</td>\n",
       "      <td>Entrepreneurship</td>\n",
       "      <td>Lean Startup</td>\n",
       "      <td>English</td>\n",
       "      <td>/course/the-lean-startup-debunking-myths-of-en...</td>\n",
       "      <td>Eric Ries</td>\n",
       "      <td>/user/ericries/</td>\n",
       "    </tr>\n",
       "    <tr>\n",
       "      <th>2</th>\n",
       "      <td>5664.0</td>\n",
       "      <td>How To Become a Vegan, Vegetarian, or Flexitarian</td>\n",
       "      <td>True</td>\n",
       "      <td>19.99</td>\n",
       "      <td>Get the tools you need for a lifestyle change ...</td>\n",
       "      <td>1713.0</td>\n",
       "      <td>4.40</td>\n",
       "      <td>41.0</td>\n",
       "      <td>13.0</td>\n",
       "      <td>14.0</td>\n",
       "      <td>82.0</td>\n",
       "      <td>2010-10-13T18:07:17Z</td>\n",
       "      <td>2019-10-09</td>\n",
       "      <td>Lifestyle</td>\n",
       "      <td>Other Lifestyle</td>\n",
       "      <td>Vegan Cooking</td>\n",
       "      <td>English</td>\n",
       "      <td>/course/see-my-personal-motivation-for-becomin...</td>\n",
       "      <td>Angela Poch</td>\n",
       "      <td>/user/angelapoch/</td>\n",
       "    </tr>\n",
       "    <tr>\n",
       "      <th>3</th>\n",
       "      <td>7723.0</td>\n",
       "      <td>How to Train a Puppy</td>\n",
       "      <td>True</td>\n",
       "      <td>199.99</td>\n",
       "      <td>Train your puppy the right way with Dr. Ian Du...</td>\n",
       "      <td>4988.0</td>\n",
       "      <td>4.80</td>\n",
       "      <td>395.0</td>\n",
       "      <td>88.0</td>\n",
       "      <td>36.0</td>\n",
       "      <td>1511.0</td>\n",
       "      <td>2011-06-20T20:08:38Z</td>\n",
       "      <td>2016-01-13</td>\n",
       "      <td>Lifestyle</td>\n",
       "      <td>Pet Care &amp; Training</td>\n",
       "      <td>Pet Training</td>\n",
       "      <td>English</td>\n",
       "      <td>/course/complete-dunbar-collection/</td>\n",
       "      <td>Ian Dunbar</td>\n",
       "      <td>/user/ian-dunbar/</td>\n",
       "    </tr>\n",
       "    <tr>\n",
       "      <th>4</th>\n",
       "      <td>8157.0</td>\n",
       "      <td>Web Design from the Ground Up</td>\n",
       "      <td>True</td>\n",
       "      <td>159.99</td>\n",
       "      <td>Learn web design online: Everything you need t...</td>\n",
       "      <td>1266.0</td>\n",
       "      <td>4.75</td>\n",
       "      <td>38.0</td>\n",
       "      <td>12.0</td>\n",
       "      <td>38.0</td>\n",
       "      <td>569.0</td>\n",
       "      <td>2011-06-23T18:31:20Z</td>\n",
       "      <td>NaN</td>\n",
       "      <td>Design</td>\n",
       "      <td>Web Design</td>\n",
       "      <td>Web Design</td>\n",
       "      <td>English</td>\n",
       "      <td>/course/web-design-from-the-ground-up/</td>\n",
       "      <td>E Learning Lab</td>\n",
       "      <td>/user/edwin-ang-2/</td>\n",
       "    </tr>\n",
       "  </tbody>\n",
       "</table>\n",
       "</div>"
      ],
      "text/plain": [
       "       id                                              title  is_paid   price   \n",
       "0  4715.0             Online Vegan Vegetarian Cooking School     True   24.99  \\\n",
       "1  1769.0         The Lean Startup Talk at Stanford E-Corner    False    0.00   \n",
       "2  5664.0  How To Become a Vegan, Vegetarian, or Flexitarian     True   19.99   \n",
       "3  7723.0                               How to Train a Puppy     True  199.99   \n",
       "4  8157.0                      Web Design from the Ground Up     True  159.99   \n",
       "\n",
       "                                            headline  num_subscribers   \n",
       "0  Learn to cook delicious vegan recipes. Filmed ...           2231.0  \\\n",
       "1  Debunking Myths of Entrepreneurship A startup ...          26474.0   \n",
       "2  Get the tools you need for a lifestyle change ...           1713.0   \n",
       "3  Train your puppy the right way with Dr. Ian Du...           4988.0   \n",
       "4  Learn web design online: Everything you need t...           1266.0   \n",
       "\n",
       "   avg_rating  num_reviews  num_comments  num_lectures  content_length_min   \n",
       "0        3.75        134.0          42.0          37.0              1268.0  \\\n",
       "1        4.50        709.0         112.0           9.0                88.0   \n",
       "2        4.40         41.0          13.0          14.0                82.0   \n",
       "3        4.80        395.0          88.0          36.0              1511.0   \n",
       "4        4.75         38.0          12.0          38.0               569.0   \n",
       "\n",
       "         published_time last_update_date   category          subcategory   \n",
       "0  2010-08-05T22:06:13Z       2020-11-06  Lifestyle      Food & Beverage  \\\n",
       "1  2010-01-12T18:09:46Z              NaN   Business     Entrepreneurship   \n",
       "2  2010-10-13T18:07:17Z       2019-10-09  Lifestyle      Other Lifestyle   \n",
       "3  2011-06-20T20:08:38Z       2016-01-13  Lifestyle  Pet Care & Training   \n",
       "4  2011-06-23T18:31:20Z              NaN     Design           Web Design   \n",
       "\n",
       "           topic language                                         course_url   \n",
       "0  Vegan Cooking  English           /course/vegan-vegetarian-cooking-school/  \\\n",
       "1   Lean Startup  English  /course/the-lean-startup-debunking-myths-of-en...   \n",
       "2  Vegan Cooking  English  /course/see-my-personal-motivation-for-becomin...   \n",
       "3   Pet Training  English                /course/complete-dunbar-collection/   \n",
       "4     Web Design  English             /course/web-design-from-the-ground-up/   \n",
       "\n",
       "  instructor_name      instructor_url  \n",
       "0     Angela Poch   /user/angelapoch/  \n",
       "1       Eric Ries     /user/ericries/  \n",
       "2     Angela Poch   /user/angelapoch/  \n",
       "3      Ian Dunbar   /user/ian-dunbar/  \n",
       "4  E Learning Lab  /user/edwin-ang-2/  "
      ]
     },
     "execution_count": 18,
     "metadata": {},
     "output_type": "execute_result"
    }
   ],
   "source": [
    "# Information about the data\n",
    "CourseInfo.head()\n",
    "# print(CourseInfo.shape)\n",
    "# print(CourseInfo.dtypes)"
   ]
  },
  {
   "cell_type": "code",
   "execution_count": 16,
   "id": "5ab3d71a",
   "metadata": {},
   "outputs": [
    {
     "name": "stdout",
     "output_type": "stream",
     "text": [
      "(209734, 20)\n",
      "id                    float64\n",
      "title                  object\n",
      "is_paid                  bool\n",
      "price                 float64\n",
      "headline               object\n",
      "num_subscribers       float64\n",
      "avg_rating            float64\n",
      "num_reviews           float64\n",
      "num_comments          float64\n",
      "num_lectures          float64\n",
      "content_length_min    float64\n",
      "published_time         object\n",
      "last_update_date       object\n",
      "category               object\n",
      "subcategory            object\n",
      "topic                  object\n",
      "language               object\n",
      "course_url             object\n",
      "instructor_name        object\n",
      "instructor_url         object\n",
      "dtype: object\n"
     ]
    }
   ],
   "source": []
  },
  {
   "cell_type": "code",
   "execution_count": 19,
   "id": "4ba7d235",
   "metadata": {},
   "outputs": [
    {
     "data": {
      "text/html": [
       "<div>\n",
       "<style scoped>\n",
       "    .dataframe tbody tr th:only-of-type {\n",
       "        vertical-align: middle;\n",
       "    }\n",
       "\n",
       "    .dataframe tbody tr th {\n",
       "        vertical-align: top;\n",
       "    }\n",
       "\n",
       "    .dataframe thead th {\n",
       "        text-align: right;\n",
       "    }\n",
       "</style>\n",
       "<table border=\"1\" class=\"dataframe\">\n",
       "  <thead>\n",
       "    <tr style=\"text-align: right;\">\n",
       "      <th></th>\n",
       "      <th>id</th>\n",
       "      <th>course_id</th>\n",
       "      <th>rate</th>\n",
       "      <th>date</th>\n",
       "      <th>display_name</th>\n",
       "      <th>comment</th>\n",
       "    </tr>\n",
       "  </thead>\n",
       "  <tbody>\n",
       "    <tr>\n",
       "      <th>0</th>\n",
       "      <td>88962892</td>\n",
       "      <td>3173036</td>\n",
       "      <td>1.0</td>\n",
       "      <td>2021-06-29T18:54:25-07:00</td>\n",
       "      <td>Rahul</td>\n",
       "      <td>I think a beginner needs more than you think.\\...</td>\n",
       "    </tr>\n",
       "    <tr>\n",
       "      <th>1</th>\n",
       "      <td>125535470</td>\n",
       "      <td>4913148</td>\n",
       "      <td>5.0</td>\n",
       "      <td>2022-10-07T11:17:41-07:00</td>\n",
       "      <td>Marlo</td>\n",
       "      <td>Aviva is such a natural teacher and healer/hea...</td>\n",
       "    </tr>\n",
       "    <tr>\n",
       "      <th>2</th>\n",
       "      <td>68767147</td>\n",
       "      <td>3178386</td>\n",
       "      <td>3.5</td>\n",
       "      <td>2020-10-19T06:35:37-07:00</td>\n",
       "      <td>Yamila Andrea</td>\n",
       "      <td>Muy buena la introducción para entender la bas...</td>\n",
       "    </tr>\n",
       "    <tr>\n",
       "      <th>3</th>\n",
       "      <td>125029758</td>\n",
       "      <td>3175814</td>\n",
       "      <td>5.0</td>\n",
       "      <td>2022-09-30T21:13:49-07:00</td>\n",
       "      <td>Jacqueline</td>\n",
       "      <td>This course is the best on Udemy.  This breakd...</td>\n",
       "    </tr>\n",
       "    <tr>\n",
       "      <th>4</th>\n",
       "      <td>76584052</td>\n",
       "      <td>3174896</td>\n",
       "      <td>4.5</td>\n",
       "      <td>2021-01-30T08:45:11-08:00</td>\n",
       "      <td>Anthony</td>\n",
       "      <td>I found this course very helpful. It was full ...</td>\n",
       "    </tr>\n",
       "  </tbody>\n",
       "</table>\n",
       "</div>"
      ],
      "text/plain": [
       "          id  course_id  rate                       date   display_name   \n",
       "0   88962892    3173036   1.0  2021-06-29T18:54:25-07:00          Rahul  \\\n",
       "1  125535470    4913148   5.0  2022-10-07T11:17:41-07:00          Marlo   \n",
       "2   68767147    3178386   3.5  2020-10-19T06:35:37-07:00  Yamila Andrea   \n",
       "3  125029758    3175814   5.0  2022-09-30T21:13:49-07:00     Jacqueline   \n",
       "4   76584052    3174896   4.5  2021-01-30T08:45:11-08:00        Anthony   \n",
       "\n",
       "                                             comment  \n",
       "0  I think a beginner needs more than you think.\\...  \n",
       "1  Aviva is such a natural teacher and healer/hea...  \n",
       "2  Muy buena la introducción para entender la bas...  \n",
       "3  This course is the best on Udemy.  This breakd...  \n",
       "4  I found this course very helpful. It was full ...  "
      ]
     },
     "execution_count": 19,
     "metadata": {},
     "output_type": "execute_result"
    }
   ],
   "source": [
    "# Information about the data\n",
    "Comments.head()"
   ]
  },
  {
   "cell_type": "code",
   "execution_count": 22,
   "id": "8aa18a24",
   "metadata": {},
   "outputs": [
    {
     "name": "stdout",
     "output_type": "stream",
     "text": [
      "id                int64\n",
      "course_id         int64\n",
      "rate            float64\n",
      "date             object\n",
      "display_name     object\n",
      "comment          object\n",
      "dtype: object\n"
     ]
    }
   ],
   "source": [
    "print(Comments.dtypes)"
   ]
  },
  {
   "cell_type": "code",
   "execution_count": 24,
   "id": "710ef39d",
   "metadata": {},
   "outputs": [
    {
     "name": "stdout",
     "output_type": "stream",
     "text": [
      "Collecting nltk\n",
      "  Downloading nltk-3.8.1-py3-none-any.whl (1.5 MB)\n",
      "\u001b[2K     \u001b[38;2;114;156;31m━━━━━━━━━━━━━━━━━━━━━━━━━━━━━━━━━━━━━━━━\u001b[0m \u001b[32m1.5/1.5 MB\u001b[0m \u001b[31m1.5 MB/s\u001b[0m eta \u001b[36m0:00:00\u001b[0m[31m1.5 MB/s\u001b[0m eta \u001b[36m0:00:01\u001b[0m0m\n",
      "\u001b[?25hCollecting click\n",
      "  Downloading click-8.1.3-py3-none-any.whl (96 kB)\n",
      "\u001b[2K     \u001b[38;2;114;156;31m━━━━━━━━━━━━━━━━━━━━━━━━━━━━━━━━━━━━━━━━\u001b[0m \u001b[32m96.6/96.6 kB\u001b[0m \u001b[31m2.1 MB/s\u001b[0m eta \u001b[36m0:00:00\u001b[0m[31m2.1 MB/s\u001b[0m eta \u001b[36m0:00:01\u001b[0m\n",
      "\u001b[?25hCollecting joblib\n",
      "  Downloading joblib-1.2.0-py3-none-any.whl (297 kB)\n",
      "\u001b[2K     \u001b[38;2;114;156;31m━━━━━━━━━━━━━━━━━━━━━━━━━━━━━━━━━━━━━━━\u001b[0m \u001b[32m298.0/298.0 kB\u001b[0m \u001b[31m1.6 MB/s\u001b[0m eta \u001b[36m0:00:00\u001b[0m[31m1.7 MB/s\u001b[0m eta \u001b[36m0:00:01\u001b[0m\n",
      "\u001b[?25hCollecting regex>=2021.8.3\n",
      "  Downloading regex-2023.3.23-cp311-cp311-macosx_11_0_arm64.whl (288 kB)\n",
      "\u001b[2K     \u001b[38;2;114;156;31m━━━━━━━━━━━━━━━━━━━━━━━━━━━━━━━━━━━━━━━\u001b[0m \u001b[32m288.8/288.8 kB\u001b[0m \u001b[31m2.1 MB/s\u001b[0m eta \u001b[36m0:00:00\u001b[0m MB/s\u001b[0m eta \u001b[36m0:00:01\u001b[0m\n",
      "\u001b[?25hCollecting tqdm\n",
      "  Downloading tqdm-4.65.0-py3-none-any.whl (77 kB)\n",
      "\u001b[2K     \u001b[38;2;114;156;31m━━━━━━━━━━━━━━━━━━━━━━━━━━━━━━━━━━━━━━━━\u001b[0m \u001b[32m77.1/77.1 kB\u001b[0m \u001b[31m1.1 MB/s\u001b[0m eta \u001b[36m0:00:00\u001b[0m[31m1.7 MB/s\u001b[0m eta \u001b[36m0:00:01\u001b[0m\n",
      "\u001b[?25hInstalling collected packages: tqdm, regex, joblib, click, nltk\n",
      "Successfully installed click-8.1.3 joblib-1.2.0 nltk-3.8.1 regex-2023.3.23 tqdm-4.65.0\n"
     ]
    }
   ],
   "source": [
    "# Importing NLTK to analyze the comments\n",
    "\n",
    "%pip install nltk \n",
    "\n",
    "import re\n",
    "import nltk\n",
    "from nltk.corpus import stopwords\n",
    "from nltk.stem import WordNetLemmatizer"
   ]
  },
  {
   "cell_type": "code",
   "execution_count": 25,
   "id": "6b845742",
   "metadata": {},
   "outputs": [
    {
     "name": "stderr",
     "output_type": "stream",
     "text": [
      "[nltk_data] Downloading package stopwords to\n",
      "[nltk_data]     /Users/fuerte/nltk_data...\n",
      "[nltk_data]   Unzipping corpora/stopwords.zip.\n",
      "[nltk_data] Downloading package wordnet to /Users/fuerte/nltk_data...\n"
     ]
    }
   ],
   "source": [
    "nltk.download('stopwords')\n",
    "nltk.download('wordnet')\n",
    "\n",
    "# define stopwords and lemmatizer\n",
    "stop_words = stopwords.words('english')\n",
    "lemmatizer = WordNetLemmatizer()"
   ]
  },
  {
   "cell_type": "code",
   "execution_count": 29,
   "id": "82cd6a91",
   "metadata": {},
   "outputs": [],
   "source": [
    "# Apply preprocessing in all the comments\n",
    "def preprocess_text(text):\n",
    "    # remove non-alphanumeric characters\n",
    "    text = re.sub(r'[^a-zA-Z0-9]', ' ', text)\n",
    "    # convert to lowercase\n",
    "    text = text.lower()\n",
    "    # split into words\n",
    "    words = text.split()\n",
    "    # remove stopwords and lemmatize\n",
    "    words = [lemmatizer.lemmatize(word) for word in words if word not in stop_words]\n",
    "    # join the words back into a string\n",
    "    text = ' '.join(words)\n",
    "    return text\n",
    "\n",
    "# apply the function to the 'comment' colasdumn\n",
    "# df['lemmacomment'] = df['comment'].apply(preprocess_text)\n",
    "# Comments['lemmacomment'] = Comments['comment'].apply(str).apply(preprocess_text)"
   ]
  },
  {
   "cell_type": "code",
   "execution_count": null,
   "id": "f8f794fa",
   "metadata": {},
   "outputs": [],
   "source": [
    "%pip install scikit-learn\n",
    "from sklearn.model_selection import train_test_split"
   ]
  },
  {
   "cell_type": "code",
   "execution_count": 58,
   "id": "8b85fd4b",
   "metadata": {},
   "outputs": [],
   "source": [
    "Comments_big, Comments_small = train_test_split(Comments, test_size=0.1, random_state=666)\n"
   ]
  },
  {
   "cell_type": "code",
   "execution_count": 59,
   "id": "fa9fe822",
   "metadata": {},
   "outputs": [
    {
     "name": "stdout",
     "output_type": "stream",
     "text": [
      "(941173, 6)\n"
     ]
    }
   ],
   "source": [
    "print(Comments_small.shape)"
   ]
  },
  {
   "cell_type": "code",
   "execution_count": 60,
   "id": "14f7d286",
   "metadata": {},
   "outputs": [],
   "source": [
    "Comments_small['lemmacomment'] = Comments_small['comment'].apply(str).apply(preprocess_text)"
   ]
  },
  {
   "cell_type": "code",
   "execution_count": 62,
   "id": "4eb793c7",
   "metadata": {},
   "outputs": [],
   "source": [
    "TreatedComments = Comments_small\n",
    "# TreatedComments = Comments"
   ]
  },
  {
   "cell_type": "code",
   "execution_count": 86,
   "id": "d82ce15b",
   "metadata": {},
   "outputs": [],
   "source": [
    "X = TreatedComments.fillna('ok')['comment']\n",
    "Y = TreatedComments.fillna(0.0)['rate']\n",
    "X_train, X_test, Y_train, Y_test = train_test_split(X, Y, test_size=0.2, random_state=666)"
   ]
  },
  {
   "cell_type": "code",
   "execution_count": 87,
   "id": "dc72a122",
   "metadata": {},
   "outputs": [],
   "source": [
    "from sklearn.feature_extraction.text import TfidfVectorizer\n",
    "from sklearn.naive_bayes import MultinomialNB\n",
    "from sklearn.metrics import accuracy_score"
   ]
  },
  {
   "cell_type": "code",
   "execution_count": 88,
   "id": "bc62cab9",
   "metadata": {},
   "outputs": [],
   "source": [
    "# Convert the text into numerical features\n",
    "vectorizer = TfidfVectorizer()\n",
    "X_train_vec = vectorizer.fit_transform(X_train)\n",
    "X_test_vec = vectorizer.transform(X_test)\n"
   ]
  },
  {
   "cell_type": "code",
   "execution_count": 92,
   "id": "98022986",
   "metadata": {},
   "outputs": [],
   "source": [
    "\n",
    "# Train a Naive Bayes classifier\n",
    "clf = MultinomialNB()\n"
   ]
  },
  {
   "cell_type": "code",
   "execution_count": 93,
   "id": "10a6d694",
   "metadata": {},
   "outputs": [
    {
     "data": {
      "text/html": [
       "<style>#sk-container-id-2 {color: black;background-color: white;}#sk-container-id-2 pre{padding: 0;}#sk-container-id-2 div.sk-toggleable {background-color: white;}#sk-container-id-2 label.sk-toggleable__label {cursor: pointer;display: block;width: 100%;margin-bottom: 0;padding: 0.3em;box-sizing: border-box;text-align: center;}#sk-container-id-2 label.sk-toggleable__label-arrow:before {content: \"▸\";float: left;margin-right: 0.25em;color: #696969;}#sk-container-id-2 label.sk-toggleable__label-arrow:hover:before {color: black;}#sk-container-id-2 div.sk-estimator:hover label.sk-toggleable__label-arrow:before {color: black;}#sk-container-id-2 div.sk-toggleable__content {max-height: 0;max-width: 0;overflow: hidden;text-align: left;background-color: #f0f8ff;}#sk-container-id-2 div.sk-toggleable__content pre {margin: 0.2em;color: black;border-radius: 0.25em;background-color: #f0f8ff;}#sk-container-id-2 input.sk-toggleable__control:checked~div.sk-toggleable__content {max-height: 200px;max-width: 100%;overflow: auto;}#sk-container-id-2 input.sk-toggleable__control:checked~label.sk-toggleable__label-arrow:before {content: \"▾\";}#sk-container-id-2 div.sk-estimator input.sk-toggleable__control:checked~label.sk-toggleable__label {background-color: #d4ebff;}#sk-container-id-2 div.sk-label input.sk-toggleable__control:checked~label.sk-toggleable__label {background-color: #d4ebff;}#sk-container-id-2 input.sk-hidden--visually {border: 0;clip: rect(1px 1px 1px 1px);clip: rect(1px, 1px, 1px, 1px);height: 1px;margin: -1px;overflow: hidden;padding: 0;position: absolute;width: 1px;}#sk-container-id-2 div.sk-estimator {font-family: monospace;background-color: #f0f8ff;border: 1px dotted black;border-radius: 0.25em;box-sizing: border-box;margin-bottom: 0.5em;}#sk-container-id-2 div.sk-estimator:hover {background-color: #d4ebff;}#sk-container-id-2 div.sk-parallel-item::after {content: \"\";width: 100%;border-bottom: 1px solid gray;flex-grow: 1;}#sk-container-id-2 div.sk-label:hover label.sk-toggleable__label {background-color: #d4ebff;}#sk-container-id-2 div.sk-serial::before {content: \"\";position: absolute;border-left: 1px solid gray;box-sizing: border-box;top: 0;bottom: 0;left: 50%;z-index: 0;}#sk-container-id-2 div.sk-serial {display: flex;flex-direction: column;align-items: center;background-color: white;padding-right: 0.2em;padding-left: 0.2em;position: relative;}#sk-container-id-2 div.sk-item {position: relative;z-index: 1;}#sk-container-id-2 div.sk-parallel {display: flex;align-items: stretch;justify-content: center;background-color: white;position: relative;}#sk-container-id-2 div.sk-item::before, #sk-container-id-2 div.sk-parallel-item::before {content: \"\";position: absolute;border-left: 1px solid gray;box-sizing: border-box;top: 0;bottom: 0;left: 50%;z-index: -1;}#sk-container-id-2 div.sk-parallel-item {display: flex;flex-direction: column;z-index: 1;position: relative;background-color: white;}#sk-container-id-2 div.sk-parallel-item:first-child::after {align-self: flex-end;width: 50%;}#sk-container-id-2 div.sk-parallel-item:last-child::after {align-self: flex-start;width: 50%;}#sk-container-id-2 div.sk-parallel-item:only-child::after {width: 0;}#sk-container-id-2 div.sk-dashed-wrapped {border: 1px dashed gray;margin: 0 0.4em 0.5em 0.4em;box-sizing: border-box;padding-bottom: 0.4em;background-color: white;}#sk-container-id-2 div.sk-label label {font-family: monospace;font-weight: bold;display: inline-block;line-height: 1.2em;}#sk-container-id-2 div.sk-label-container {text-align: center;}#sk-container-id-2 div.sk-container {/* jupyter's `normalize.less` sets `[hidden] { display: none; }` but bootstrap.min.css set `[hidden] { display: none !important; }` so we also need the `!important` here to be able to override the default hidden behavior on the sphinx rendered scikit-learn.org. See: https://github.com/scikit-learn/scikit-learn/issues/21755 */display: inline-block !important;position: relative;}#sk-container-id-2 div.sk-text-repr-fallback {display: none;}</style><div id=\"sk-container-id-2\" class=\"sk-top-container\"><div class=\"sk-text-repr-fallback\"><pre>MultinomialNB()</pre><b>In a Jupyter environment, please rerun this cell to show the HTML representation or trust the notebook. <br />On GitHub, the HTML representation is unable to render, please try loading this page with nbviewer.org.</b></div><div class=\"sk-container\" hidden><div class=\"sk-item\"><div class=\"sk-estimator sk-toggleable\"><input class=\"sk-toggleable__control sk-hidden--visually\" id=\"sk-estimator-id-2\" type=\"checkbox\" checked><label for=\"sk-estimator-id-2\" class=\"sk-toggleable__label sk-toggleable__label-arrow\">MultinomialNB</label><div class=\"sk-toggleable__content\"><pre>MultinomialNB()</pre></div></div></div></div></div>"
      ],
      "text/plain": [
       "MultinomialNB()"
      ]
     },
     "execution_count": 93,
     "metadata": {},
     "output_type": "execute_result"
    }
   ],
   "source": [
    "import numpy as np\n",
    "Y_train_int = np.array(Y_train).astype(int)\n",
    "clf.fit(X_train_vec, Y_train_int)"
   ]
  },
  {
   "cell_type": "code",
   "execution_count": null,
   "id": "47785fa5",
   "metadata": {},
   "outputs": [],
   "source": [
    "# Not working\n"
   ]
  },
  {
   "cell_type": "code",
   "execution_count": 105,
   "id": "99cccaa9",
   "metadata": {},
   "outputs": [
    {
     "name": "stdout",
     "output_type": "stream",
     "text": [
      "188235\n",
      "Accuracy: 0.6347278667622919\n"
     ]
    }
   ],
   "source": [
    "# Predict on the test set and calculate accuracy\n",
    "Y_pred = clf.predict(X_test_vec)\n",
    "print(len(Y_pred))\n",
    "\n",
    "Y_test_int = np.array(Y_test).astype(int)\n",
    "accuracy = accuracy_score(Y_test_int, Y_pred)\n",
    "\n",
    "\n",
    "print('Accuracy:', accuracy)\n"
   ]
  },
  {
   "cell_type": "code",
   "execution_count": null,
   "id": "67674e25",
   "metadata": {},
   "outputs": [],
   "source": []
  }
 ],
 "metadata": {
  "kernelspec": {
   "display_name": "Python 3 (ipykernel)",
   "language": "python",
   "name": "python3"
  },
  "language_info": {
   "codemirror_mode": {
    "name": "ipython",
    "version": 3
   },
   "file_extension": ".py",
   "mimetype": "text/x-python",
   "name": "python",
   "nbconvert_exporter": "python",
   "pygments_lexer": "ipython3",
   "version": "3.11.2"
  }
 },
 "nbformat": 4,
 "nbformat_minor": 5
}
