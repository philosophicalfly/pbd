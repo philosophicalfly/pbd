{
 "cells": [
  {
   "cell_type": "code",
   "execution_count": 177,
   "id": "b09306d0",
   "metadata": {},
   "outputs": [
    {
     "name": "stdout",
     "output_type": "stream",
     "text": [
      "Requirement already satisfied: pandas in ./myenv/lib/python3.11/site-packages (2.0.0)\n",
      "Requirement already satisfied: numpy in ./myenv/lib/python3.11/site-packages (1.24.2)\n",
      "Requirement already satisfied: seaborn in ./myenv/lib/python3.11/site-packages (0.12.2)\n",
      "Requirement already satisfied: matplotlib in ./myenv/lib/python3.11/site-packages (3.7.1)\n",
      "Requirement already satisfied: scikit-learn in ./myenv/lib/python3.11/site-packages (1.2.2)\n",
      "Requirement already satisfied: nltk in ./myenv/lib/python3.11/site-packages (3.8.1)\n",
      "Requirement already satisfied: langdetect in ./myenv/lib/python3.11/site-packages (1.0.9)\n",
      "Requirement already satisfied: imblearn in ./myenv/lib/python3.11/site-packages (0.0)\n",
      "Requirement already satisfied: python-dateutil>=2.8.2 in ./myenv/lib/python3.11/site-packages (from pandas) (2.8.2)\n",
      "Requirement already satisfied: pytz>=2020.1 in ./myenv/lib/python3.11/site-packages (from pandas) (2023.3)\n",
      "Requirement already satisfied: tzdata>=2022.1 in ./myenv/lib/python3.11/site-packages (from pandas) (2023.3)\n",
      "Requirement already satisfied: contourpy>=1.0.1 in ./myenv/lib/python3.11/site-packages (from matplotlib) (1.0.7)\n",
      "Requirement already satisfied: cycler>=0.10 in ./myenv/lib/python3.11/site-packages (from matplotlib) (0.11.0)\n",
      "Requirement already satisfied: fonttools>=4.22.0 in ./myenv/lib/python3.11/site-packages (from matplotlib) (4.39.3)\n",
      "Requirement already satisfied: kiwisolver>=1.0.1 in ./myenv/lib/python3.11/site-packages (from matplotlib) (1.4.4)\n",
      "Requirement already satisfied: packaging>=20.0 in ./myenv/lib/python3.11/site-packages (from matplotlib) (23.0)\n",
      "Requirement already satisfied: pillow>=6.2.0 in ./myenv/lib/python3.11/site-packages (from matplotlib) (9.5.0)\n",
      "Requirement already satisfied: pyparsing>=2.3.1 in ./myenv/lib/python3.11/site-packages (from matplotlib) (3.0.9)\n",
      "Requirement already satisfied: scipy>=1.3.2 in ./myenv/lib/python3.11/site-packages (from scikit-learn) (1.10.1)\n",
      "Requirement already satisfied: joblib>=1.1.1 in ./myenv/lib/python3.11/site-packages (from scikit-learn) (1.2.0)\n",
      "Requirement already satisfied: threadpoolctl>=2.0.0 in ./myenv/lib/python3.11/site-packages (from scikit-learn) (3.1.0)\n",
      "Requirement already satisfied: click in ./myenv/lib/python3.11/site-packages (from nltk) (8.1.3)\n",
      "Requirement already satisfied: regex>=2021.8.3 in ./myenv/lib/python3.11/site-packages (from nltk) (2023.3.23)\n",
      "Requirement already satisfied: tqdm in ./myenv/lib/python3.11/site-packages (from nltk) (4.65.0)\n",
      "Requirement already satisfied: six in ./myenv/lib/python3.11/site-packages (from langdetect) (1.16.0)\n",
      "Requirement already satisfied: imbalanced-learn in ./myenv/lib/python3.11/site-packages (from imblearn) (0.10.1)\n",
      "Note: you may need to restart the kernel to use updated packages.\n"
     ]
    }
   ],
   "source": [
    "%pip install pandas numpy seaborn matplotlib scikit-learn nltk langdetect imblearn"
   ]
  },
  {
   "cell_type": "code",
   "execution_count": 178,
   "id": "9d83575b",
   "metadata": {},
   "outputs": [],
   "source": [
    "# Importing stuff\n",
    "import pandas as pd\n",
    "import numpy as np\n",
    "import warnings\n",
    "\n",
    "# Data Resampling Algorithms\n",
    "from imblearn.combine import SMOTEENN\n",
    "from imblearn.over_sampling import ADASYN\n",
    "from imblearn.over_sampling import SMOTE\n",
    "from imblearn.over_sampling import RandomOverSampler\n",
    "from imblearn.under_sampling import RandomUnderSampler\n",
    "\n",
    "# Regex\n",
    "import re\n",
    "\n",
    "# Plotting\n",
    "import matplotlib.pyplot as plt\n",
    "\n",
    "# NLP stuff\n",
    "import nltk\n",
    "from nltk.corpus import stopwords\n",
    "from nltk.stem import WordNetLemmatizer\n",
    "\n",
    "# Language detection\n",
    "from langdetect import detect, LangDetectException\n",
    "\n",
    "# Classification report\n",
    "from sklearn.metrics import classification_report\n",
    "\n",
    "# Vectorizers\n",
    "from sklearn.feature_extraction.text import TfidfVectorizer\n",
    "\n",
    "# Algorithms\n",
    "from sklearn.tree import DecisionTreeClassifier\n",
    "from sklearn.naive_bayes import MultinomialNB\n",
    "\n",
    "# Split data\n",
    "from sklearn.model_selection import train_test_split\n",
    "\n",
    "# Models Validation\n",
    "from sklearn.metrics import accuracy_score\n",
    "\n",
    "# ProgressBar\n",
    "from tqdm import tqdm\n",
    "\n",
    "warnings.filterwarnings(\"ignore\")"
   ]
  },
  {
   "cell_type": "code",
   "execution_count": 179,
   "id": "bb56d6b2",
   "metadata": {},
   "outputs": [],
   "source": [
    "# Read the data\n",
    "# CourseInfo = pd.read_csv(\"./Course_info.csv\") # NOT USED\n",
    "Comments = pd.read_csv(\"./Comments.csv\")"
   ]
  },
  {
   "cell_type": "code",
   "execution_count": 180,
   "id": "4ba7d235",
   "metadata": {},
   "outputs": [
    {
     "data": {
      "text/html": [
       "<div>\n",
       "<style scoped>\n",
       "    .dataframe tbody tr th:only-of-type {\n",
       "        vertical-align: middle;\n",
       "    }\n",
       "\n",
       "    .dataframe tbody tr th {\n",
       "        vertical-align: top;\n",
       "    }\n",
       "\n",
       "    .dataframe thead th {\n",
       "        text-align: right;\n",
       "    }\n",
       "</style>\n",
       "<table border=\"1\" class=\"dataframe\">\n",
       "  <thead>\n",
       "    <tr style=\"text-align: right;\">\n",
       "      <th></th>\n",
       "      <th>id</th>\n",
       "      <th>course_id</th>\n",
       "      <th>rate</th>\n",
       "      <th>date</th>\n",
       "      <th>display_name</th>\n",
       "      <th>comment</th>\n",
       "    </tr>\n",
       "  </thead>\n",
       "  <tbody>\n",
       "    <tr>\n",
       "      <th>0</th>\n",
       "      <td>88962892</td>\n",
       "      <td>3173036</td>\n",
       "      <td>1.0</td>\n",
       "      <td>2021-06-29T18:54:25-07:00</td>\n",
       "      <td>Rahul</td>\n",
       "      <td>I think a beginner needs more than you think.\\...</td>\n",
       "    </tr>\n",
       "    <tr>\n",
       "      <th>1</th>\n",
       "      <td>125535470</td>\n",
       "      <td>4913148</td>\n",
       "      <td>5.0</td>\n",
       "      <td>2022-10-07T11:17:41-07:00</td>\n",
       "      <td>Marlo</td>\n",
       "      <td>Aviva is such a natural teacher and healer/hea...</td>\n",
       "    </tr>\n",
       "    <tr>\n",
       "      <th>2</th>\n",
       "      <td>68767147</td>\n",
       "      <td>3178386</td>\n",
       "      <td>3.5</td>\n",
       "      <td>2020-10-19T06:35:37-07:00</td>\n",
       "      <td>Yamila Andrea</td>\n",
       "      <td>Muy buena la introducción para entender la bas...</td>\n",
       "    </tr>\n",
       "    <tr>\n",
       "      <th>3</th>\n",
       "      <td>125029758</td>\n",
       "      <td>3175814</td>\n",
       "      <td>5.0</td>\n",
       "      <td>2022-09-30T21:13:49-07:00</td>\n",
       "      <td>Jacqueline</td>\n",
       "      <td>This course is the best on Udemy.  This breakd...</td>\n",
       "    </tr>\n",
       "    <tr>\n",
       "      <th>4</th>\n",
       "      <td>76584052</td>\n",
       "      <td>3174896</td>\n",
       "      <td>4.5</td>\n",
       "      <td>2021-01-30T08:45:11-08:00</td>\n",
       "      <td>Anthony</td>\n",
       "      <td>I found this course very helpful. It was full ...</td>\n",
       "    </tr>\n",
       "  </tbody>\n",
       "</table>\n",
       "</div>"
      ],
      "text/plain": [
       "          id  course_id  rate                       date   display_name   \n",
       "0   88962892    3173036   1.0  2021-06-29T18:54:25-07:00          Rahul  \\\n",
       "1  125535470    4913148   5.0  2022-10-07T11:17:41-07:00          Marlo   \n",
       "2   68767147    3178386   3.5  2020-10-19T06:35:37-07:00  Yamila Andrea   \n",
       "3  125029758    3175814   5.0  2022-09-30T21:13:49-07:00     Jacqueline   \n",
       "4   76584052    3174896   4.5  2021-01-30T08:45:11-08:00        Anthony   \n",
       "\n",
       "                                             comment  \n",
       "0  I think a beginner needs more than you think.\\...  \n",
       "1  Aviva is such a natural teacher and healer/hea...  \n",
       "2  Muy buena la introducción para entender la bas...  \n",
       "3  This course is the best on Udemy.  This breakd...  \n",
       "4  I found this course very helpful. It was full ...  "
      ]
     },
     "execution_count": 180,
     "metadata": {},
     "output_type": "execute_result"
    }
   ],
   "source": [
    "# Information about the comments\n",
    "Comments.head()"
   ]
  },
  {
   "cell_type": "code",
   "execution_count": 181,
   "id": "8aa18a24",
   "metadata": {},
   "outputs": [
    {
     "name": "stdout",
     "output_type": "stream",
     "text": [
      "id                int64\n",
      "course_id         int64\n",
      "rate            float64\n",
      "date             object\n",
      "display_name     object\n",
      "comment          object\n",
      "dtype: object\n"
     ]
    }
   ],
   "source": [
    "# Type information\n",
    "print(Comments.dtypes)"
   ]
  },
  {
   "attachments": {},
   "cell_type": "markdown",
   "id": "710ef39d",
   "metadata": {},
   "source": [
    "--- \n",
    "# Analyzing and Sanitizing the Dataset"
   ]
  },
  {
   "cell_type": "code",
   "execution_count": 182,
   "id": "8b85fd4b",
   "metadata": {},
   "outputs": [],
   "source": [
    "# Here I'm splitting the data into a smaller set to be able to train in less than 2 hours\n",
    "Comments_big, Comments_small = train_test_split(Comments, test_size=0.1, random_state=666)"
   ]
  },
  {
   "cell_type": "code",
   "execution_count": 183,
   "id": "4eb793c7",
   "metadata": {},
   "outputs": [
    {
     "name": "stdout",
     "output_type": "stream",
     "text": [
      "(941173, 6)\n"
     ]
    }
   ],
   "source": [
    "# Here we can select if we want to use the big or small set, \n",
    "# The small set is used by default, and it takes around 1h30m to train in my M1 machinhe, due to cleaning\n",
    "# I estimate the large set (commented) takes 10h to 15h to train completely\n",
    "TreatedComments = Comments_small\n",
    "# TreatedComments = Comments\n",
    "print(TreatedComments.shape)"
   ]
  },
  {
   "cell_type": "code",
   "execution_count": 184,
   "id": "fc75c667",
   "metadata": {},
   "outputs": [],
   "source": [
    "# A function to add a new column to the dataframe with the cleaned comments\n",
    "# It either returns \n",
    "#     the language (en, es, etc) or \n",
    "#     'exception' if it fails to detect the language or \n",
    "#     'too short' if the comment is too short\n",
    "\n",
    "def detect_language(text):\n",
    "    try:\n",
    "        if len(str(text).strip()) > 10:\n",
    "            lang = detect(text)\n",
    "        else:\n",
    "            lang = 'too short'\n",
    "    except LangDetectException:\n",
    "        lang = 'exception'\n",
    "    return lang"
   ]
  },
  {
   "cell_type": "code",
   "execution_count": 185,
   "id": "e4893382",
   "metadata": {},
   "outputs": [],
   "source": [
    "# Applying the function to the dataframe\n",
    "# THIS TOOK 1h10m IN MY M1 PRO WITH THE SMALL SET, IT TAKES TIME!\n",
    "TreatedComments['lang'] = TreatedComments['comment'].apply(detect_language)"
   ]
  },
  {
   "cell_type": "code",
   "execution_count": 186,
   "id": "4bbf17ce",
   "metadata": {},
   "outputs": [],
   "source": [
    "TreatedComments.to_csv('TreatedComments.csv', index=False)"
   ]
  },
  {
   "cell_type": "code",
   "execution_count": 187,
   "id": "19cb59ad",
   "metadata": {},
   "outputs": [],
   "source": [
    "TreatedComments = pd.read_csv('TreatedComments.csv')"
   ]
  },
  {
   "cell_type": "code",
   "execution_count": 188,
   "id": "21ec7864",
   "metadata": {},
   "outputs": [
    {
     "data": {
      "text/html": [
       "<div>\n",
       "<style scoped>\n",
       "    .dataframe tbody tr th:only-of-type {\n",
       "        vertical-align: middle;\n",
       "    }\n",
       "\n",
       "    .dataframe tbody tr th {\n",
       "        vertical-align: top;\n",
       "    }\n",
       "\n",
       "    .dataframe thead th {\n",
       "        text-align: right;\n",
       "    }\n",
       "</style>\n",
       "<table border=\"1\" class=\"dataframe\">\n",
       "  <thead>\n",
       "    <tr style=\"text-align: right;\">\n",
       "      <th></th>\n",
       "      <th>id</th>\n",
       "      <th>course_id</th>\n",
       "      <th>rate</th>\n",
       "      <th>date</th>\n",
       "      <th>display_name</th>\n",
       "      <th>comment</th>\n",
       "      <th>lang</th>\n",
       "    </tr>\n",
       "  </thead>\n",
       "  <tbody>\n",
       "    <tr>\n",
       "      <th>6</th>\n",
       "      <td>4205214</td>\n",
       "      <td>943620</td>\n",
       "      <td>5.0</td>\n",
       "      <td>2016-11-21T08:44:07-08:00</td>\n",
       "      <td>Ariel</td>\n",
       "      <td>The instruction is very clear. Well done!</td>\n",
       "      <td>en</td>\n",
       "    </tr>\n",
       "    <tr>\n",
       "      <th>7</th>\n",
       "      <td>34636138</td>\n",
       "      <td>1362070</td>\n",
       "      <td>4.0</td>\n",
       "      <td>2019-07-22T22:10:52-07:00</td>\n",
       "      <td>Beto</td>\n",
       "      <td>Max explanations are really good. \\nBut the co...</td>\n",
       "      <td>en</td>\n",
       "    </tr>\n",
       "    <tr>\n",
       "      <th>8</th>\n",
       "      <td>10763216</td>\n",
       "      <td>1399390</td>\n",
       "      <td>5.0</td>\n",
       "      <td>2017-11-05T05:40:51-08:00</td>\n",
       "      <td>Geoff@Balfre.Com</td>\n",
       "      <td>Another excellent course from Brad</td>\n",
       "      <td>en</td>\n",
       "    </tr>\n",
       "    <tr>\n",
       "      <th>9</th>\n",
       "      <td>327502</td>\n",
       "      <td>130064</td>\n",
       "      <td>5.0</td>\n",
       "      <td>2015-03-26T17:21:51-07:00</td>\n",
       "      <td>PC</td>\n",
       "      <td>This course can benefit everybody who wants to...</td>\n",
       "      <td>en</td>\n",
       "    </tr>\n",
       "    <tr>\n",
       "      <th>10</th>\n",
       "      <td>33829950</td>\n",
       "      <td>437398</td>\n",
       "      <td>5.0</td>\n",
       "      <td>2019-07-05T10:28:56-07:00</td>\n",
       "      <td>Adebayo</td>\n",
       "      <td>This course is a great, with clear explanation...</td>\n",
       "      <td>en</td>\n",
       "    </tr>\n",
       "    <tr>\n",
       "      <th>11</th>\n",
       "      <td>40112730</td>\n",
       "      <td>461740</td>\n",
       "      <td>4.0</td>\n",
       "      <td>2019-11-10T21:26:32-08:00</td>\n",
       "      <td>Sheri</td>\n",
       "      <td>It's a little outdated as WP is now on version...</td>\n",
       "      <td>en</td>\n",
       "    </tr>\n",
       "    <tr>\n",
       "      <th>12</th>\n",
       "      <td>32943754</td>\n",
       "      <td>1035472</td>\n",
       "      <td>4.0</td>\n",
       "      <td>2019-06-16T03:15:44-07:00</td>\n",
       "      <td>Daniele</td>\n",
       "      <td>I've just completed the course.\\n\\nPRO:\\n- wel...</td>\n",
       "      <td>en</td>\n",
       "    </tr>\n",
       "    <tr>\n",
       "      <th>13</th>\n",
       "      <td>117673900</td>\n",
       "      <td>1299614</td>\n",
       "      <td>5.0</td>\n",
       "      <td>2022-06-30T09:36:56-07:00</td>\n",
       "      <td>Ladouce</td>\n",
       "      <td>Great lesson! Listening improves and encourage...</td>\n",
       "      <td>en</td>\n",
       "    </tr>\n",
       "    <tr>\n",
       "      <th>15</th>\n",
       "      <td>100627494</td>\n",
       "      <td>2327564</td>\n",
       "      <td>5.0</td>\n",
       "      <td>2021-11-20T04:49:56-08:00</td>\n",
       "      <td>Dr</td>\n",
       "      <td>Wow!! Amazing course which is on English Gramm...</td>\n",
       "      <td>en</td>\n",
       "    </tr>\n",
       "    <tr>\n",
       "      <th>16</th>\n",
       "      <td>71682836</td>\n",
       "      <td>2706042</td>\n",
       "      <td>3.5</td>\n",
       "      <td>2020-11-30T12:10:30-08:00</td>\n",
       "      <td>Omri</td>\n",
       "      <td>need to explain better what's each parameter w...</td>\n",
       "      <td>en</td>\n",
       "    </tr>\n",
       "  </tbody>\n",
       "</table>\n",
       "</div>"
      ],
      "text/plain": [
       "           id  course_id  rate                       date      display_name   \n",
       "6     4205214     943620   5.0  2016-11-21T08:44:07-08:00             Ariel  \\\n",
       "7    34636138    1362070   4.0  2019-07-22T22:10:52-07:00              Beto   \n",
       "8    10763216    1399390   5.0  2017-11-05T05:40:51-08:00  Geoff@Balfre.Com   \n",
       "9      327502     130064   5.0  2015-03-26T17:21:51-07:00                PC   \n",
       "10   33829950     437398   5.0  2019-07-05T10:28:56-07:00           Adebayo   \n",
       "11   40112730     461740   4.0  2019-11-10T21:26:32-08:00             Sheri   \n",
       "12   32943754    1035472   4.0  2019-06-16T03:15:44-07:00           Daniele   \n",
       "13  117673900    1299614   5.0  2022-06-30T09:36:56-07:00           Ladouce   \n",
       "15  100627494    2327564   5.0  2021-11-20T04:49:56-08:00                Dr   \n",
       "16   71682836    2706042   3.5  2020-11-30T12:10:30-08:00              Omri   \n",
       "\n",
       "                                              comment lang  \n",
       "6           The instruction is very clear. Well done!   en  \n",
       "7   Max explanations are really good. \\nBut the co...   en  \n",
       "8                  Another excellent course from Brad   en  \n",
       "9   This course can benefit everybody who wants to...   en  \n",
       "10  This course is a great, with clear explanation...   en  \n",
       "11  It's a little outdated as WP is now on version...   en  \n",
       "12  I've just completed the course.\\n\\nPRO:\\n- wel...   en  \n",
       "13  Great lesson! Listening improves and encourage...   en  \n",
       "15  Wow!! Amazing course which is on English Gramm...   en  \n",
       "16  need to explain better what's each parameter w...   en  "
      ]
     },
     "execution_count": 188,
     "metadata": {},
     "output_type": "execute_result"
    }
   ],
   "source": [
    "# Filter the comments that are not in english\n",
    "TreatedComments = TreatedComments[TreatedComments['lang'] == 'en']\n",
    "TreatedComments.head(10)"
   ]
  },
  {
   "cell_type": "code",
   "execution_count": 189,
   "id": "82cd6a91",
   "metadata": {},
   "outputs": [
    {
     "name": "stderr",
     "output_type": "stream",
     "text": [
      "[nltk_data] Downloading package stopwords to\n",
      "[nltk_data]     /Users/fuerte/nltk_data...\n",
      "[nltk_data]   Package stopwords is already up-to-date!\n",
      "[nltk_data] Downloading package wordnet to /Users/fuerte/nltk_data...\n",
      "[nltk_data]   Package wordnet is already up-to-date!\n"
     ]
    }
   ],
   "source": [
    "# Stopwords are words that are filtered out before or after processing of natural language data, like \"a\", \"the\", \"is\", etc.\n",
    "nltk.download('stopwords')\n",
    "# WordNet is a lexical database for the English language\n",
    "nltk.download('wordnet')\n",
    "# Define stopwords and lemmatizer\n",
    "stop_words = stopwords.words('english')\n",
    "lemmatizer = WordNetLemmatizer()\n",
    "\n",
    "# A pre processing function to clean the comments of stopwords and lemmatize the words\n",
    "def preprocess_text(text):\n",
    "    # remove non-alphanumeric characters\n",
    "    text = re.sub(r'[^a-zA-Z0-9]', ' ', text)\n",
    "    # convert to lowercase\n",
    "    text = text.lower()\n",
    "    # split into words\n",
    "    words = text.split()\n",
    "    # remove stopwords and lemmatize\n",
    "    words = [lemmatizer.lemmatize(word) for word in words if word not in stop_words]\n",
    "    # join the words back into a string\n",
    "    text = ' '.join(words)\n",
    "    return text"
   ]
  },
  {
   "cell_type": "code",
   "execution_count": 190,
   "id": "aa6db3b3",
   "metadata": {},
   "outputs": [],
   "source": [
    "# Applying the function to the dataframe\n",
    "TreatedComments['lemmacomment'] = TreatedComments['comment'].apply(str).apply(preprocess_text)"
   ]
  },
  {
   "cell_type": "code",
   "execution_count": 219,
   "id": "f07216ee",
   "metadata": {},
   "outputs": [],
   "source": [
    "TreatedComments.to_csv('TreatedCommentsEnglish.csv', index=False)"
   ]
  },
  {
   "attachments": {},
   "cell_type": "markdown",
   "id": "326615e6",
   "metadata": {},
   "source": [
    "---\n",
    "# Resampling"
   ]
  },
  {
   "cell_type": "code",
   "execution_count": 191,
   "id": "9b105ed1",
   "metadata": {},
   "outputs": [
    {
     "data": {
      "text/plain": [
       "(array([  1055.,  14137.,  16062.,  46895., 491858.]),\n",
       " array([0., 1., 2., 3., 4., 5.]),\n",
       " <BarContainer object of 5 artists>)"
      ]
     },
     "execution_count": 191,
     "metadata": {},
     "output_type": "execute_result"
    },
    {
     "data": {
      "image/png": "[encoded data removed]",
      "text/plain": [
       "<Figure size 640x480 with 1 Axes>"
      ]
     },
     "metadata": {},
     "output_type": "display_data"
    }
   ],
   "source": [
    "# Create a histogram of the rating distribution\n",
    "plt.hist(TreatedComments['rate'], bins=[0, 1, 2, 3, 4, 5], align='left', rwidth=0.8, color='#007acc')"
   ]
  },
  {
   "cell_type": "code",
   "execution_count": 192,
   "id": "080cb563",
   "metadata": {},
   "outputs": [],
   "source": [
    "# - So here we can have results that work for simple sentences, but \n",
    "#   - Accuracy is low\n",
    "#   - It will be biased to higher ratings\n",
    "# - The amount of ratings between 4 and 5 is extremely bigger than the amount of other ratings\n",
    "# - We'll need to do resampling, \n",
    "#   - With the amount of data we have and the time we take to train the dataset, the only way out is a mix of undersampling and oversampling\n",
    "#   - We can do this using the SMOTEENN from imblearn.combine\n",
    "#     - We then use the fit_resample() method of the SMOTEENN object to resample the training data. This will first perform ENN undersampling on the majority class to remove noisy and borderline samples, and then perform SMOTE oversampling on the remaining minority class samples to generate new synthetic samples."
   ]
  },
  {
   "cell_type": "code",
   "execution_count": 193,
   "id": "d82ce15b",
   "metadata": {},
   "outputs": [],
   "source": [
    "# Defining the X and Y variables for the model, we make sure to remove the NaN values with fillna\n",
    "X = TreatedComments.fillna('')['lemmacomment']\n",
    "Y = TreatedComments.fillna(0)['rate']\n",
    "\n",
    "X_train, X_test, Y_train, Y_test = train_test_split(X, Y, test_size=0.3, random_state=666)"
   ]
  },
  {
   "cell_type": "code",
   "execution_count": 194,
   "id": "bcdf2f0f",
   "metadata": {},
   "outputs": [],
   "source": [
    "# Transform the Y_train to int\n",
    "Y_train_int = np.array(Y_train).astype(int)\n",
    "# Convert the text into numerical features\n",
    "vectorizer = TfidfVectorizer()\n",
    "X_train_vec = vectorizer.fit_transform(X_train)\n",
    "X_test_vec = vectorizer.transform(X_test)"
   ]
  },
  {
   "cell_type": "code",
   "execution_count": 195,
   "id": "6f24b6a7",
   "metadata": {},
   "outputs": [],
   "source": [
    "# Create a SMOTEENN object to combine undersampling and oversampling\n",
    "smoteenn = SMOTEENN(random_state=42)\n",
    "rus = RandomUnderSampler(random_state=42)\n",
    "ros = RandomOverSampler(random_state=42)\n",
    "smote = SMOTE(random_state=42)\n",
    "adasyn = ADASYN(random_state=42)\n"
   ]
  },
  {
   "cell_type": "code",
   "execution_count": 196,
   "id": "3d2c0ca2",
   "metadata": {},
   "outputs": [],
   "source": [
    "# Resample the training data using the SMOTEENN object with a progress bar\n",
    "X_resampled, Y_resampled = adasyn.fit_resample(X_train_vec, Y_train_int)"
   ]
  },
  {
   "cell_type": "code",
   "execution_count": 218,
   "id": "0eeefd34",
   "metadata": {},
   "outputs": [],
   "source": [
    "X_resampled_df = pd.DataFrame(X_resampled, columns=['lemmacomment'])\n",
    "Y_resampled_df = pd.DataFrame(Y_resampled, columns=['rate'])\n",
    "X_resampled_df.to_csv('X_resampled.csv', index=False)\n",
    "Y_resampled_df.to_csv('Y_resampled.csv', index=False)"
   ]
  },
  {
   "cell_type": "code",
   "execution_count": 198,
   "id": "4b9641bd",
   "metadata": {},
   "outputs": [
    {
     "data": {
      "text/plain": [
       "(array([247763., 250235., 247243., 244639., 510325.]),\n",
       " array([0., 1., 2., 3., 4., 5.]),\n",
       " <BarContainer object of 5 artists>)"
      ]
     },
     "execution_count": 198,
     "metadata": {},
     "output_type": "execute_result"
    },
    {
     "data": {
      "image/png": "[encoded data removed]",
      "text/plain": [
       "<Figure size 640x480 with 1 Axes>"
      ]
     },
     "metadata": {},
     "output_type": "display_data"
    }
   ],
   "source": [
    "# Plot again the resampled data\n",
    "plt.hist(Y_resampled, bins=[0, 1, 2, 3, 4, 5], align='left', rwidth=0.8, color='#007acc')"
   ]
  },
  {
   "attachments": {},
   "cell_type": "markdown",
   "id": "8afb02fa",
   "metadata": {},
   "source": [
    "---\n",
    "\n",
    "# Algorithms"
   ]
  },
  {
   "attachments": {},
   "cell_type": "markdown",
   "id": "98022986",
   "metadata": {},
   "source": [
    "---\n",
    "### Naive Bayes Classifier"
   ]
  },
  {
   "cell_type": "code",
   "execution_count": 199,
   "id": "e963d649",
   "metadata": {},
   "outputs": [],
   "source": [
    "clf = MultinomialNB()"
   ]
  },
  {
   "cell_type": "code",
   "execution_count": 200,
   "id": "10a6d694",
   "metadata": {},
   "outputs": [
    {
     "data": {
      "text/html": [
       "<style>#sk-container-id-10 {color: black;background-color: white;}#sk-container-id-10 pre{padding: 0;}#sk-container-id-10 div.sk-toggleable {background-color: white;}#sk-container-id-10 label.sk-toggleable__label {cursor: pointer;display: block;width: 100%;margin-bottom: 0;padding: 0.3em;box-sizing: border-box;text-align: center;}#sk-container-id-10 label.sk-toggleable__label-arrow:before {content: \"▸\";float: left;margin-right: 0.25em;color: #696969;}#sk-container-id-10 label.sk-toggleable__label-arrow:hover:before {color: black;}#sk-container-id-10 div.sk-estimator:hover label.sk-toggleable__label-arrow:before {color: black;}#sk-container-id-10 div.sk-toggleable__content {max-height: 0;max-width: 0;overflow: hidden;text-align: left;background-color: #f0f8ff;}#sk-container-id-10 div.sk-toggleable__content pre {margin: 0.2em;color: black;border-radius: 0.25em;background-color: #f0f8ff;}#sk-container-id-10 input.sk-toggleable__control:checked~div.sk-toggleable__content {max-height: 200px;max-width: 100%;overflow: auto;}#sk-container-id-10 input.sk-toggleable__control:checked~label.sk-toggleable__label-arrow:before {content: \"▾\";}#sk-container-id-10 div.sk-estimator input.sk-toggleable__control:checked~label.sk-toggleable__label {background-color: #d4ebff;}#sk-container-id-10 div.sk-label input.sk-toggleable__control:checked~label.sk-toggleable__label {background-color: #d4ebff;}#sk-container-id-10 input.sk-hidden--visually {border: 0;clip: rect(1px 1px 1px 1px);clip: rect(1px, 1px, 1px, 1px);height: 1px;margin: -1px;overflow: hidden;padding: 0;position: absolute;width: 1px;}#sk-container-id-10 div.sk-estimator {font-family: monospace;background-color: #f0f8ff;border: 1px dotted black;border-radius: 0.25em;box-sizing: border-box;margin-bottom: 0.5em;}#sk-container-id-10 div.sk-estimator:hover {background-color: #d4ebff;}#sk-container-id-10 div.sk-parallel-item::after {content: \"\";width: 100%;border-bottom: 1px solid gray;flex-grow: 1;}#sk-container-id-10 div.sk-label:hover label.sk-toggleable__label {background-color: #d4ebff;}#sk-container-id-10 div.sk-serial::before {content: \"\";position: absolute;border-left: 1px solid gray;box-sizing: border-box;top: 0;bottom: 0;left: 50%;z-index: 0;}#sk-container-id-10 div.sk-serial {display: flex;flex-direction: column;align-items: center;background-color: white;padding-right: 0.2em;padding-left: 0.2em;position: relative;}#sk-container-id-10 div.sk-item {position: relative;z-index: 1;}#sk-container-id-10 div.sk-parallel {display: flex;align-items: stretch;justify-content: center;background-color: white;position: relative;}#sk-container-id-10 div.sk-item::before, #sk-container-id-10 div.sk-parallel-item::before {content: \"\";position: absolute;border-left: 1px solid gray;box-sizing: border-box;top: 0;bottom: 0;left: 50%;z-index: -1;}#sk-container-id-10 div.sk-parallel-item {display: flex;flex-direction: column;z-index: 1;position: relative;background-color: white;}#sk-container-id-10 div.sk-parallel-item:first-child::after {align-self: flex-end;width: 50%;}#sk-container-id-10 div.sk-parallel-item:last-child::after {align-self: flex-start;width: 50%;}#sk-container-id-10 div.sk-parallel-item:only-child::after {width: 0;}#sk-container-id-10 div.sk-dashed-wrapped {border: 1px dashed gray;margin: 0 0.4em 0.5em 0.4em;box-sizing: border-box;padding-bottom: 0.4em;background-color: white;}#sk-container-id-10 div.sk-label label {font-family: monospace;font-weight: bold;display: inline-block;line-height: 1.2em;}#sk-container-id-10 div.sk-label-container {text-align: center;}#sk-container-id-10 div.sk-container {/* jupyter's `normalize.less` sets `[hidden] { display: none; }` but bootstrap.min.css set `[hidden] { display: none !important; }` so we also need the `!important` here to be able to override the default hidden behavior on the sphinx rendered scikit-learn.org. See: https://github.com/scikit-learn/scikit-learn/issues/21755 */display: inline-block !important;position: relative;}#sk-container-id-10 div.sk-text-repr-fallback {display: none;}</style><div id=\"sk-container-id-10\" class=\"sk-top-container\"><div class=\"sk-text-repr-fallback\"><pre>MultinomialNB()</pre><b>In a Jupyter environment, please rerun this cell to show the HTML representation or trust the notebook. <br />On GitHub, the HTML representation is unable to render, please try loading this page with nbviewer.org.</b></div><div class=\"sk-container\" hidden><div class=\"sk-item\"><div class=\"sk-estimator sk-toggleable\"><input class=\"sk-toggleable__control sk-hidden--visually\" id=\"sk-estimator-id-10\" type=\"checkbox\" checked><label for=\"sk-estimator-id-10\" class=\"sk-toggleable__label sk-toggleable__label-arrow\">MultinomialNB</label><div class=\"sk-toggleable__content\"><pre>MultinomialNB()</pre></div></div></div></div></div>"
      ],
      "text/plain": [
       "MultinomialNB()"
      ]
     },
     "execution_count": 200,
     "metadata": {},
     "output_type": "execute_result"
    }
   ],
   "source": [
    "clf.fit(X_resampled, Y_resampled)"
   ]
  },
  {
   "cell_type": "code",
   "execution_count": 201,
   "id": "99cccaa9",
   "metadata": {},
   "outputs": [],
   "source": [
    "# Predict on the test set and calculate accuracy\n",
    "Y_pred = clf.predict(X_test_vec)"
   ]
  },
  {
   "cell_type": "code",
   "execution_count": 202,
   "id": "3389ea2f",
   "metadata": {},
   "outputs": [
    {
     "name": "stdout",
     "output_type": "stream",
     "text": [
      "Accuracy: 0.5186341760086081\n"
     ]
    }
   ],
   "source": [
    "# Since the Y_test is a float, we need to convert it to int to be able to calculate the accuracy\n",
    "Y_test_int = np.array(Y_test).astype(int)\n",
    "accuracy = accuracy_score(Y_test_int, Y_pred)\n",
    "print('Accuracy:', accuracy)"
   ]
  },
  {
   "cell_type": "code",
   "execution_count": 203,
   "id": "67674e25",
   "metadata": {},
   "outputs": [
    {
     "name": "stdout",
     "output_type": "stream",
     "text": [
      "              precision    recall  f1-score   support\n",
      "\n",
      "           0       0.01      0.16      0.02       338\n",
      "           1       0.21      0.39      0.27      4112\n",
      "           2       0.14      0.34      0.20      4774\n",
      "           3       0.24      0.31      0.27     13946\n",
      "           4       0.33      0.41      0.36     41238\n",
      "           5       0.82      0.60      0.69    106595\n",
      "\n",
      "    accuracy                           0.52    171003\n",
      "   macro avg       0.29      0.37      0.30    171003\n",
      "weighted avg       0.62      0.52      0.55    171003\n",
      "\n"
     ]
    }
   ],
   "source": [
    "print(classification_report(Y_test_int, Y_pred))"
   ]
  },
  {
   "cell_type": "code",
   "execution_count": 204,
   "id": "cec1bc1d",
   "metadata": {},
   "outputs": [
    {
     "name": "stdout",
     "output_type": "stream",
     "text": [
      "Predicted rate: 2\n"
     ]
    }
   ],
   "source": [
    "new_comment = 'average'\n",
    "new_comment_vec = vectorizer.transform([new_comment])\n",
    "new_rate = clf.predict(new_comment_vec)[0]\n",
    "print('Predicted rate:', new_rate)"
   ]
  },
  {
   "attachments": {},
   "cell_type": "markdown",
   "id": "3121e882",
   "metadata": {},
   "source": [
    "---\n",
    "### Decision Tree Classifier"
   ]
  },
  {
   "cell_type": "code",
   "execution_count": 205,
   "id": "e2f5a3f4",
   "metadata": {},
   "outputs": [],
   "source": [
    "clf = DecisionTreeClassifier()"
   ]
  },
  {
   "cell_type": "code",
   "execution_count": 206,
   "id": "c6691097",
   "metadata": {},
   "outputs": [
    {
     "data": {
      "text/html": [
       "<style>#sk-container-id-11 {color: black;background-color: white;}#sk-container-id-11 pre{padding: 0;}#sk-container-id-11 div.sk-toggleable {background-color: white;}#sk-container-id-11 label.sk-toggleable__label {cursor: pointer;display: block;width: 100%;margin-bottom: 0;padding: 0.3em;box-sizing: border-box;text-align: center;}#sk-container-id-11 label.sk-toggleable__label-arrow:before {content: \"▸\";float: left;margin-right: 0.25em;color: #696969;}#sk-container-id-11 label.sk-toggleable__label-arrow:hover:before {color: black;}#sk-container-id-11 div.sk-estimator:hover label.sk-toggleable__label-arrow:before {color: black;}#sk-container-id-11 div.sk-toggleable__content {max-height: 0;max-width: 0;overflow: hidden;text-align: left;background-color: #f0f8ff;}#sk-container-id-11 div.sk-toggleable__content pre {margin: 0.2em;color: black;border-radius: 0.25em;background-color: #f0f8ff;}#sk-container-id-11 input.sk-toggleable__control:checked~div.sk-toggleable__content {max-height: 200px;max-width: 100%;overflow: auto;}#sk-container-id-11 input.sk-toggleable__control:checked~label.sk-toggleable__label-arrow:before {content: \"▾\";}#sk-container-id-11 div.sk-estimator input.sk-toggleable__control:checked~label.sk-toggleable__label {background-color: #d4ebff;}#sk-container-id-11 div.sk-label input.sk-toggleable__control:checked~label.sk-toggleable__label {background-color: #d4ebff;}#sk-container-id-11 input.sk-hidden--visually {border: 0;clip: rect(1px 1px 1px 1px);clip: rect(1px, 1px, 1px, 1px);height: 1px;margin: -1px;overflow: hidden;padding: 0;position: absolute;width: 1px;}#sk-container-id-11 div.sk-estimator {font-family: monospace;background-color: #f0f8ff;border: 1px dotted black;border-radius: 0.25em;box-sizing: border-box;margin-bottom: 0.5em;}#sk-container-id-11 div.sk-estimator:hover {background-color: #d4ebff;}#sk-container-id-11 div.sk-parallel-item::after {content: \"\";width: 100%;border-bottom: 1px solid gray;flex-grow: 1;}#sk-container-id-11 div.sk-label:hover label.sk-toggleable__label {background-color: #d4ebff;}#sk-container-id-11 div.sk-serial::before {content: \"\";position: absolute;border-left: 1px solid gray;box-sizing: border-box;top: 0;bottom: 0;left: 50%;z-index: 0;}#sk-container-id-11 div.sk-serial {display: flex;flex-direction: column;align-items: center;background-color: white;padding-right: 0.2em;padding-left: 0.2em;position: relative;}#sk-container-id-11 div.sk-item {position: relative;z-index: 1;}#sk-container-id-11 div.sk-parallel {display: flex;align-items: stretch;justify-content: center;background-color: white;position: relative;}#sk-container-id-11 div.sk-item::before, #sk-container-id-11 div.sk-parallel-item::before {content: \"\";position: absolute;border-left: 1px solid gray;box-sizing: border-box;top: 0;bottom: 0;left: 50%;z-index: -1;}#sk-container-id-11 div.sk-parallel-item {display: flex;flex-direction: column;z-index: 1;position: relative;background-color: white;}#sk-container-id-11 div.sk-parallel-item:first-child::after {align-self: flex-end;width: 50%;}#sk-container-id-11 div.sk-parallel-item:last-child::after {align-self: flex-start;width: 50%;}#sk-container-id-11 div.sk-parallel-item:only-child::after {width: 0;}#sk-container-id-11 div.sk-dashed-wrapped {border: 1px dashed gray;margin: 0 0.4em 0.5em 0.4em;box-sizing: border-box;padding-bottom: 0.4em;background-color: white;}#sk-container-id-11 div.sk-label label {font-family: monospace;font-weight: bold;display: inline-block;line-height: 1.2em;}#sk-container-id-11 div.sk-label-container {text-align: center;}#sk-container-id-11 div.sk-container {/* jupyter's `normalize.less` sets `[hidden] { display: none; }` but bootstrap.min.css set `[hidden] { display: none !important; }` so we also need the `!important` here to be able to override the default hidden behavior on the sphinx rendered scikit-learn.org. See: https://github.com/scikit-learn/scikit-learn/issues/21755 */display: inline-block !important;position: relative;}#sk-container-id-11 div.sk-text-repr-fallback {display: none;}</style><div id=\"sk-container-id-11\" class=\"sk-top-container\"><div class=\"sk-text-repr-fallback\"><pre>DecisionTreeClassifier()</pre><b>In a Jupyter environment, please rerun this cell to show the HTML representation or trust the notebook. <br />On GitHub, the HTML representation is unable to render, please try loading this page with nbviewer.org.</b></div><div class=\"sk-container\" hidden><div class=\"sk-item\"><div class=\"sk-estimator sk-toggleable\"><input class=\"sk-toggleable__control sk-hidden--visually\" id=\"sk-estimator-id-11\" type=\"checkbox\" checked><label for=\"sk-estimator-id-11\" class=\"sk-toggleable__label sk-toggleable__label-arrow\">DecisionTreeClassifier</label><div class=\"sk-toggleable__content\"><pre>DecisionTreeClassifier()</pre></div></div></div></div></div>"
      ],
      "text/plain": [
       "DecisionTreeClassifier()"
      ]
     },
     "execution_count": 206,
     "metadata": {},
     "output_type": "execute_result"
    }
   ],
   "source": [
    "clf.fit(X_resampled, Y_resampled)"
   ]
  },
  {
   "cell_type": "code",
   "execution_count": 207,
   "id": "ff4e31bd",
   "metadata": {},
   "outputs": [],
   "source": [
    "# Predict on the test set and calculate accuracy\n",
    "Y_pred = clf.predict(X_test_vec)"
   ]
  },
  {
   "cell_type": "code",
   "execution_count": 208,
   "id": "7e6b0223",
   "metadata": {},
   "outputs": [
    {
     "name": "stdout",
     "output_type": "stream",
     "text": [
      "Accuracy: 0.5130670222159845\n"
     ]
    }
   ],
   "source": [
    "# Since the Y_test is a float, we need to convert it to int to be able to calculate the accuracy\n",
    "Y_test_int = np.array(Y_test).astype(int)\n",
    "accuracy = accuracy_score(Y_test_int, Y_pred)\n",
    "print('Accuracy:', accuracy)"
   ]
  },
  {
   "cell_type": "code",
   "execution_count": 209,
   "id": "a1bfb247",
   "metadata": {},
   "outputs": [
    {
     "name": "stdout",
     "output_type": "stream",
     "text": [
      "              precision    recall  f1-score   support\n",
      "\n",
      "           0       0.01      0.04      0.02       338\n",
      "           1       0.19      0.31      0.23      4112\n",
      "           2       0.12      0.18      0.15      4774\n",
      "           3       0.20      0.25      0.22     13946\n",
      "           4       0.30      0.32      0.31     41238\n",
      "           5       0.73      0.65      0.69    106595\n",
      "\n",
      "    accuracy                           0.51    171003\n",
      "   macro avg       0.26      0.29      0.27    171003\n",
      "weighted avg       0.55      0.51      0.53    171003\n",
      "\n"
     ]
    }
   ],
   "source": [
    "print(classification_report(Y_test_int, Y_pred))"
   ]
  },
  {
   "cell_type": "code",
   "execution_count": 210,
   "id": "9eac9155",
   "metadata": {},
   "outputs": [
    {
     "name": "stdout",
     "output_type": "stream",
     "text": [
      "Predicted rate: 1\n"
     ]
    }
   ],
   "source": [
    "new_comment = 'this was so bad I cant even describe'\n",
    "new_comment_vec = vectorizer.transform([new_comment])\n",
    "new_rate = clf.predict(new_comment_vec)[0]\n",
    "print('Predicted rate:', new_rate)"
   ]
  },
  {
   "attachments": {},
   "cell_type": "markdown",
   "id": "32237a52",
   "metadata": {},
   "source": [
    "### Some Real World Examples"
   ]
  },
  {
   "cell_type": "code",
   "execution_count": 217,
   "id": "3a7b9962",
   "metadata": {},
   "outputs": [
    {
     "name": "stdout",
     "output_type": "stream",
     "text": [
      "Waste of time and money. \n",
      "  -> 1\n",
      "Not helpful at all. Very Bad. \n",
      "  -> 1\n",
      "Confusing and poorly organized. \n",
      "  -> 0\n",
      "Could be better. \n",
      "  -> 3\n",
      "Average, I watched until the end. \n",
      "  -> 2\n",
      "Helpful and informative. \n",
      "  -> 5\n",
      "Very useful and informative. \n",
      "  -> 4\n",
      "One of the best courses I've taken. \n",
      "  -> 5\n",
      "Absolutely fantastic! \n",
      "  -> 5\n",
      "Life-changing! Thank you! \n",
      "  -> 5\n"
     ]
    }
   ],
   "source": [
    "comments = [    \n",
    "    \"Waste of time and money.\",    \n",
    "    \"Not helpful at all. Very Bad.\",    \n",
    "    \"Confusing and poorly organized.\",    \n",
    "    \"Could be better.\",    \n",
    "    \"Average, I watched until the end.\",    \n",
    "    \"Helpful and informative.\",    \n",
    "    \"Very useful and informative.\",    \n",
    "    \"One of the best courses I've taken.\",    \n",
    "    \"Absolutely fantastic!\",    \n",
    "    \"Life-changing! Thank you!\"\n",
    "]\n",
    "\n",
    "for comment in comments:\n",
    "    new_comment_vec = vectorizer.transform([comment])\n",
    "    new_rate = clf.predict(new_comment_vec)[0]\n",
    "    print(comment, '\\n  ->', new_rate)"
   ]
  }
 ],
 "metadata": {
  "kernelspec": {
   "display_name": "Python 3 (ipykernel)",
   "language": "python",
   "name": "python3"
  },
  "language_info": {
   "codemirror_mode": {
    "name": "ipython",
    "version": 3
   },
   "file_extension": ".py",
   "mimetype": "text/x-python",
   "name": "python",
   "nbconvert_exporter": "python",
   "pygments_lexer": "ipython3",
   "version": "3.11.2"
  }
 },
 "nbformat": 4,
 "nbformat_minor": 5
}
