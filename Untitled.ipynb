{
 "cells": [
  {
   "cell_type": "code",
   "execution_count": 348,
   "id": "b09306d0",
   "metadata": {},
   "outputs": [
    {
     "name": "stdout",
     "output_type": "stream",
     "text": [
      "Requirement already satisfied: pandas in ./myenv/lib/python3.11/site-packages (2.0.0)\n",
      "Requirement already satisfied: numpy in ./myenv/lib/python3.11/site-packages (1.24.2)\n",
      "Requirement already satisfied: seaborn in ./myenv/lib/python3.11/site-packages (0.12.2)\n",
      "Requirement already satisfied: matplotlib in ./myenv/lib/python3.11/site-packages (3.7.1)\n",
      "Requirement already satisfied: python-dateutil>=2.8.2 in ./myenv/lib/python3.11/site-packages (from pandas) (2.8.2)\n",
      "Requirement already satisfied: pytz>=2020.1 in ./myenv/lib/python3.11/site-packages (from pandas) (2023.3)\n",
      "Requirement already satisfied: tzdata>=2022.1 in ./myenv/lib/python3.11/site-packages (from pandas) (2023.3)\n",
      "Requirement already satisfied: contourpy>=1.0.1 in ./myenv/lib/python3.11/site-packages (from matplotlib) (1.0.7)\n",
      "Requirement already satisfied: cycler>=0.10 in ./myenv/lib/python3.11/site-packages (from matplotlib) (0.11.0)\n",
      "Requirement already satisfied: fonttools>=4.22.0 in ./myenv/lib/python3.11/site-packages (from matplotlib) (4.39.3)\n",
      "Requirement already satisfied: kiwisolver>=1.0.1 in ./myenv/lib/python3.11/site-packages (from matplotlib) (1.4.4)\n",
      "Requirement already satisfied: packaging>=20.0 in ./myenv/lib/python3.11/site-packages (from matplotlib) (23.0)\n",
      "Requirement already satisfied: pillow>=6.2.0 in ./myenv/lib/python3.11/site-packages (from matplotlib) (9.5.0)\n",
      "Requirement already satisfied: pyparsing>=2.3.1 in ./myenv/lib/python3.11/site-packages (from matplotlib) (3.0.9)\n",
      "Requirement already satisfied: six>=1.5 in ./myenv/lib/python3.11/site-packages (from python-dateutil>=2.8.2->pandas) (1.16.0)\n",
      "Note: you may need to restart the kernel to use updated packages.\n"
     ]
    }
   ],
   "source": [
    "%pip install pandas numpy seaborn matplotlib "
   ]
  },
  {
   "cell_type": "code",
   "execution_count": 349,
   "id": "9d83575b",
   "metadata": {},
   "outputs": [],
   "source": [
    "# Importing stuff\n",
    "import pandas as pd\n",
    "import warnings\n",
    "warnings.filterwarnings(\"ignore\")"
   ]
  },
  {
   "cell_type": "code",
   "execution_count": 350,
   "id": "bb56d6b2",
   "metadata": {},
   "outputs": [],
   "source": [
    "# Read the data\n",
    "# CourseInfo = pd.read_csv(\"./Course_info.csv\") # NOT USED\n",
    "Comments = pd.read_csv(\"./Comments.csv\")"
   ]
  },
  {
   "cell_type": "code",
   "execution_count": 351,
   "id": "4ba7d235",
   "metadata": {},
   "outputs": [
    {
     "data": {
      "text/html": [
       "<div>\n",
       "<style scoped>\n",
       "    .dataframe tbody tr th:only-of-type {\n",
       "        vertical-align: middle;\n",
       "    }\n",
       "\n",
       "    .dataframe tbody tr th {\n",
       "        vertical-align: top;\n",
       "    }\n",
       "\n",
       "    .dataframe thead th {\n",
       "        text-align: right;\n",
       "    }\n",
       "</style>\n",
       "<table border=\"1\" class=\"dataframe\">\n",
       "  <thead>\n",
       "    <tr style=\"text-align: right;\">\n",
       "      <th></th>\n",
       "      <th>id</th>\n",
       "      <th>course_id</th>\n",
       "      <th>rate</th>\n",
       "      <th>date</th>\n",
       "      <th>display_name</th>\n",
       "      <th>comment</th>\n",
       "    </tr>\n",
       "  </thead>\n",
       "  <tbody>\n",
       "    <tr>\n",
       "      <th>0</th>\n",
       "      <td>88962892</td>\n",
       "      <td>3173036</td>\n",
       "      <td>1.0</td>\n",
       "      <td>2021-06-29T18:54:25-07:00</td>\n",
       "      <td>Rahul</td>\n",
       "      <td>I think a beginner needs more than you think.\\...</td>\n",
       "    </tr>\n",
       "    <tr>\n",
       "      <th>1</th>\n",
       "      <td>125535470</td>\n",
       "      <td>4913148</td>\n",
       "      <td>5.0</td>\n",
       "      <td>2022-10-07T11:17:41-07:00</td>\n",
       "      <td>Marlo</td>\n",
       "      <td>Aviva is such a natural teacher and healer/hea...</td>\n",
       "    </tr>\n",
       "    <tr>\n",
       "      <th>2</th>\n",
       "      <td>68767147</td>\n",
       "      <td>3178386</td>\n",
       "      <td>3.5</td>\n",
       "      <td>2020-10-19T06:35:37-07:00</td>\n",
       "      <td>Yamila Andrea</td>\n",
       "      <td>Muy buena la introducción para entender la bas...</td>\n",
       "    </tr>\n",
       "    <tr>\n",
       "      <th>3</th>\n",
       "      <td>125029758</td>\n",
       "      <td>3175814</td>\n",
       "      <td>5.0</td>\n",
       "      <td>2022-09-30T21:13:49-07:00</td>\n",
       "      <td>Jacqueline</td>\n",
       "      <td>This course is the best on Udemy.  This breakd...</td>\n",
       "    </tr>\n",
       "    <tr>\n",
       "      <th>4</th>\n",
       "      <td>76584052</td>\n",
       "      <td>3174896</td>\n",
       "      <td>4.5</td>\n",
       "      <td>2021-01-30T08:45:11-08:00</td>\n",
       "      <td>Anthony</td>\n",
       "      <td>I found this course very helpful. It was full ...</td>\n",
       "    </tr>\n",
       "  </tbody>\n",
       "</table>\n",
       "</div>"
      ],
      "text/plain": [
       "          id  course_id  rate                       date   display_name   \n",
       "0   88962892    3173036   1.0  2021-06-29T18:54:25-07:00          Rahul  \\\n",
       "1  125535470    4913148   5.0  2022-10-07T11:17:41-07:00          Marlo   \n",
       "2   68767147    3178386   3.5  2020-10-19T06:35:37-07:00  Yamila Andrea   \n",
       "3  125029758    3175814   5.0  2022-09-30T21:13:49-07:00     Jacqueline   \n",
       "4   76584052    3174896   4.5  2021-01-30T08:45:11-08:00        Anthony   \n",
       "\n",
       "                                             comment  \n",
       "0  I think a beginner needs more than you think.\\...  \n",
       "1  Aviva is such a natural teacher and healer/hea...  \n",
       "2  Muy buena la introducción para entender la bas...  \n",
       "3  This course is the best on Udemy.  This breakd...  \n",
       "4  I found this course very helpful. It was full ...  "
      ]
     },
     "execution_count": 351,
     "metadata": {},
     "output_type": "execute_result"
    }
   ],
   "source": [
    "# Information about the comments\n",
    "Comments.head()"
   ]
  },
  {
   "cell_type": "code",
   "execution_count": 352,
   "id": "8aa18a24",
   "metadata": {},
   "outputs": [
    {
     "name": "stdout",
     "output_type": "stream",
     "text": [
      "id                int64\n",
      "course_id         int64\n",
      "rate            float64\n",
      "date             object\n",
      "display_name     object\n",
      "comment          object\n",
      "dtype: object\n"
     ]
    }
   ],
   "source": [
    "# Type information\n",
    "print(Comments.dtypes)"
   ]
  },
  {
   "cell_type": "code",
   "execution_count": 353,
   "id": "710ef39d",
   "metadata": {},
   "outputs": [
    {
     "name": "stdout",
     "output_type": "stream",
     "text": [
      "Requirement already satisfied: nltk in ./myenv/lib/python3.11/site-packages (3.8.1)\n",
      "Requirement already satisfied: click in ./myenv/lib/python3.11/site-packages (from nltk) (8.1.3)\n",
      "Requirement already satisfied: joblib in ./myenv/lib/python3.11/site-packages (from nltk) (1.2.0)\n",
      "Requirement already satisfied: regex>=2021.8.3 in ./myenv/lib/python3.11/site-packages (from nltk) (2023.3.23)\n",
      "Requirement already satisfied: tqdm in ./myenv/lib/python3.11/site-packages (from nltk) (4.65.0)\n",
      "Note: you may need to restart the kernel to use updated packages.\n"
     ]
    }
   ],
   "source": [
    "# Importing NLTK to analyze the comments\n",
    "%pip install nltk \n",
    "\n",
    "import re\n",
    "import nltk\n",
    "from nltk.corpus import stopwords\n",
    "from nltk.stem import WordNetLemmatizer"
   ]
  },
  {
   "cell_type": "code",
   "execution_count": 354,
   "id": "6b845742",
   "metadata": {},
   "outputs": [
    {
     "name": "stderr",
     "output_type": "stream",
     "text": [
      "[nltk_data] Downloading package stopwords to\n",
      "[nltk_data]     /Users/fuerte/nltk_data...\n",
      "[nltk_data]   Package stopwords is already up-to-date!\n",
      "[nltk_data] Downloading package wordnet to /Users/fuerte/nltk_data...\n",
      "[nltk_data]   Package wordnet is already up-to-date!\n"
     ]
    }
   ],
   "source": [
    "\n",
    "# Stopwords are words that are filtered out before or after processing of natural language data, like \"a\", \"the\", \"is\", etc.\n",
    "nltk.download('stopwords')\n",
    "# WordNet is a lexical database for the English language\n",
    "nltk.download('wordnet')\n",
    "# Define stopwords and lemmatizer\n",
    "stop_words = stopwords.words('english')\n",
    "lemmatizer = WordNetLemmatizer()"
   ]
  },
  {
   "cell_type": "code",
   "execution_count": 355,
   "id": "f8f794fa",
   "metadata": {},
   "outputs": [
    {
     "name": "stdout",
     "output_type": "stream",
     "text": [
      "Requirement already satisfied: scikit-learn in ./myenv/lib/python3.11/site-packages (1.2.2)\n",
      "Requirement already satisfied: numpy>=1.17.3 in ./myenv/lib/python3.11/site-packages (from scikit-learn) (1.24.2)\n",
      "Requirement already satisfied: scipy>=1.3.2 in ./myenv/lib/python3.11/site-packages (from scikit-learn) (1.10.1)\n",
      "Requirement already satisfied: joblib>=1.1.1 in ./myenv/lib/python3.11/site-packages (from scikit-learn) (1.2.0)\n",
      "Requirement already satisfied: threadpoolctl>=2.0.0 in ./myenv/lib/python3.11/site-packages (from scikit-learn) (3.1.0)\n",
      "Note: you may need to restart the kernel to use updated packages.\n"
     ]
    }
   ],
   "source": [
    "%pip install scikit-learn\n",
    "from sklearn.model_selection import train_test_split"
   ]
  },
  {
   "cell_type": "code",
   "execution_count": 356,
   "id": "8b85fd4b",
   "metadata": {},
   "outputs": [],
   "source": [
    "# Here I'm splitting the data into a smaller set to be able to train in less than 2 hours\n",
    "Comments_big, Comments_small = train_test_split(Comments, test_size=0.1, random_state=666)"
   ]
  },
  {
   "cell_type": "code",
   "execution_count": 357,
   "id": "4eb793c7",
   "metadata": {},
   "outputs": [
    {
     "name": "stdout",
     "output_type": "stream",
     "text": [
      "(941173, 6)\n"
     ]
    }
   ],
   "source": [
    "# Here we can select if we want to use the big or small set, \n",
    "# The small set is used by default, and it takes around 1h30m to train in my M1 machinhe, due to cleaning\n",
    "# I estimate the large set (commented) takes 10h to 15h to train completely\n",
    "TreatedComments = Comments_small\n",
    "# TreatedComments = Comments\n",
    "print(TreatedComments.shape)"
   ]
  },
  {
   "cell_type": "code",
   "execution_count": 358,
   "id": "fc75c667",
   "metadata": {},
   "outputs": [
    {
     "name": "stdout",
     "output_type": "stream",
     "text": [
      "Requirement already satisfied: langdetect in ./myenv/lib/python3.11/site-packages (1.0.9)\n",
      "Requirement already satisfied: six in ./myenv/lib/python3.11/site-packages (from langdetect) (1.16.0)\n",
      "Note: you may need to restart the kernel to use updated packages.\n"
     ]
    }
   ],
   "source": [
    "# A function to add a new column to the dataframe with the cleaned comments\n",
    "# It either returns \n",
    "#     the language (en, es, etc) or \n",
    "#     'exception' if it fails to detect the language or \n",
    "#     'too short' if the comment is too short\n",
    "\n",
    "%pip install langdetect\n",
    "from langdetect import detect, LangDetectException\n",
    "\n",
    "def detect_language(text):\n",
    "    try:\n",
    "        if len(str(text).strip()) > 10:\n",
    "            lang = detect(text)\n",
    "        else:\n",
    "            lang = 'too short'\n",
    "    except LangDetectException:\n",
    "        lang = 'exception'\n",
    "    return lang"
   ]
  },
  {
   "cell_type": "code",
   "execution_count": 359,
   "id": "e4893382",
   "metadata": {},
   "outputs": [],
   "source": [
    "# Applying the function to the dataframe\n",
    "# THIS TOOK 1h10m IN MY M1 PRO WITH THE SMALL SET, IT TAKES TIME!\n",
    "TreatedComments['lang'] = TreatedComments['comment'].apply(detect_language)"
   ]
  },
  {
   "cell_type": "code",
   "execution_count": 360,
   "id": "21ec7864",
   "metadata": {},
   "outputs": [
    {
     "data": {
      "text/html": [
       "<div>\n",
       "<style scoped>\n",
       "    .dataframe tbody tr th:only-of-type {\n",
       "        vertical-align: middle;\n",
       "    }\n",
       "\n",
       "    .dataframe tbody tr th {\n",
       "        vertical-align: top;\n",
       "    }\n",
       "\n",
       "    .dataframe thead th {\n",
       "        text-align: right;\n",
       "    }\n",
       "</style>\n",
       "<table border=\"1\" class=\"dataframe\">\n",
       "  <thead>\n",
       "    <tr style=\"text-align: right;\">\n",
       "      <th></th>\n",
       "      <th>id</th>\n",
       "      <th>course_id</th>\n",
       "      <th>rate</th>\n",
       "      <th>date</th>\n",
       "      <th>display_name</th>\n",
       "      <th>comment</th>\n",
       "      <th>lang</th>\n",
       "    </tr>\n",
       "  </thead>\n",
       "  <tbody>\n",
       "    <tr>\n",
       "      <th>2250664</th>\n",
       "      <td>4205214</td>\n",
       "      <td>943620</td>\n",
       "      <td>5.0</td>\n",
       "      <td>2016-11-21T08:44:07-08:00</td>\n",
       "      <td>Ariel</td>\n",
       "      <td>The instruction is very clear. Well done!</td>\n",
       "      <td>en</td>\n",
       "    </tr>\n",
       "    <tr>\n",
       "      <th>9237164</th>\n",
       "      <td>34636138</td>\n",
       "      <td>1362070</td>\n",
       "      <td>4.0</td>\n",
       "      <td>2019-07-22T22:10:52-07:00</td>\n",
       "      <td>Beto</td>\n",
       "      <td>Max explanations are really good. \\nBut the co...</td>\n",
       "      <td>en</td>\n",
       "    </tr>\n",
       "    <tr>\n",
       "      <th>5511903</th>\n",
       "      <td>10763216</td>\n",
       "      <td>1399390</td>\n",
       "      <td>5.0</td>\n",
       "      <td>2017-11-05T05:40:51-08:00</td>\n",
       "      <td>Geoff@Balfre.Com</td>\n",
       "      <td>Another excellent course from Brad</td>\n",
       "      <td>en</td>\n",
       "    </tr>\n",
       "    <tr>\n",
       "      <th>7154330</th>\n",
       "      <td>327502</td>\n",
       "      <td>130064</td>\n",
       "      <td>5.0</td>\n",
       "      <td>2015-03-26T17:21:51-07:00</td>\n",
       "      <td>PC</td>\n",
       "      <td>This course can benefit everybody who wants to...</td>\n",
       "      <td>en</td>\n",
       "    </tr>\n",
       "    <tr>\n",
       "      <th>8962739</th>\n",
       "      <td>33829950</td>\n",
       "      <td>437398</td>\n",
       "      <td>5.0</td>\n",
       "      <td>2019-07-05T10:28:56-07:00</td>\n",
       "      <td>Adebayo</td>\n",
       "      <td>This course is a great, with clear explanation...</td>\n",
       "      <td>en</td>\n",
       "    </tr>\n",
       "    <tr>\n",
       "      <th>1033103</th>\n",
       "      <td>40112730</td>\n",
       "      <td>461740</td>\n",
       "      <td>4.0</td>\n",
       "      <td>2019-11-10T21:26:32-08:00</td>\n",
       "      <td>Sheri</td>\n",
       "      <td>It's a little outdated as WP is now on version...</td>\n",
       "      <td>en</td>\n",
       "    </tr>\n",
       "    <tr>\n",
       "      <th>7761210</th>\n",
       "      <td>32943754</td>\n",
       "      <td>1035472</td>\n",
       "      <td>4.0</td>\n",
       "      <td>2019-06-16T03:15:44-07:00</td>\n",
       "      <td>Daniele</td>\n",
       "      <td>I've just completed the course.\\n\\nPRO:\\n- wel...</td>\n",
       "      <td>en</td>\n",
       "    </tr>\n",
       "    <tr>\n",
       "      <th>7193617</th>\n",
       "      <td>117673900</td>\n",
       "      <td>1299614</td>\n",
       "      <td>5.0</td>\n",
       "      <td>2022-06-30T09:36:56-07:00</td>\n",
       "      <td>Ladouce</td>\n",
       "      <td>Great lesson! Listening improves and encourage...</td>\n",
       "      <td>en</td>\n",
       "    </tr>\n",
       "    <tr>\n",
       "      <th>6300821</th>\n",
       "      <td>100627494</td>\n",
       "      <td>2327564</td>\n",
       "      <td>5.0</td>\n",
       "      <td>2021-11-20T04:49:56-08:00</td>\n",
       "      <td>Dr</td>\n",
       "      <td>Wow!! Amazing course which is on English Gramm...</td>\n",
       "      <td>en</td>\n",
       "    </tr>\n",
       "    <tr>\n",
       "      <th>1654031</th>\n",
       "      <td>71682836</td>\n",
       "      <td>2706042</td>\n",
       "      <td>3.5</td>\n",
       "      <td>2020-11-30T12:10:30-08:00</td>\n",
       "      <td>Omri</td>\n",
       "      <td>need to explain better what's each parameter w...</td>\n",
       "      <td>en</td>\n",
       "    </tr>\n",
       "  </tbody>\n",
       "</table>\n",
       "</div>"
      ],
      "text/plain": [
       "                id  course_id  rate                       date   \n",
       "2250664    4205214     943620   5.0  2016-11-21T08:44:07-08:00  \\\n",
       "9237164   34636138    1362070   4.0  2019-07-22T22:10:52-07:00   \n",
       "5511903   10763216    1399390   5.0  2017-11-05T05:40:51-08:00   \n",
       "7154330     327502     130064   5.0  2015-03-26T17:21:51-07:00   \n",
       "8962739   33829950     437398   5.0  2019-07-05T10:28:56-07:00   \n",
       "1033103   40112730     461740   4.0  2019-11-10T21:26:32-08:00   \n",
       "7761210   32943754    1035472   4.0  2019-06-16T03:15:44-07:00   \n",
       "7193617  117673900    1299614   5.0  2022-06-30T09:36:56-07:00   \n",
       "6300821  100627494    2327564   5.0  2021-11-20T04:49:56-08:00   \n",
       "1654031   71682836    2706042   3.5  2020-11-30T12:10:30-08:00   \n",
       "\n",
       "             display_name                                            comment   \n",
       "2250664             Ariel          The instruction is very clear. Well done!  \\\n",
       "9237164              Beto  Max explanations are really good. \\nBut the co...   \n",
       "5511903  Geoff@Balfre.Com                 Another excellent course from Brad   \n",
       "7154330                PC  This course can benefit everybody who wants to...   \n",
       "8962739           Adebayo  This course is a great, with clear explanation...   \n",
       "1033103             Sheri  It's a little outdated as WP is now on version...   \n",
       "7761210           Daniele  I've just completed the course.\\n\\nPRO:\\n- wel...   \n",
       "7193617           Ladouce  Great lesson! Listening improves and encourage...   \n",
       "6300821                Dr  Wow!! Amazing course which is on English Gramm...   \n",
       "1654031              Omri  need to explain better what's each parameter w...   \n",
       "\n",
       "        lang  \n",
       "2250664   en  \n",
       "9237164   en  \n",
       "5511903   en  \n",
       "7154330   en  \n",
       "8962739   en  \n",
       "1033103   en  \n",
       "7761210   en  \n",
       "7193617   en  \n",
       "6300821   en  \n",
       "1654031   en  "
      ]
     },
     "execution_count": 360,
     "metadata": {},
     "output_type": "execute_result"
    }
   ],
   "source": [
    "# Filter the comments that are not in english\n",
    "TreatedComments = TreatedComments[TreatedComments['lang'] == 'en']\n",
    "TreatedComments.head(10)"
   ]
  },
  {
   "cell_type": "code",
   "execution_count": 361,
   "id": "82cd6a91",
   "metadata": {},
   "outputs": [],
   "source": [
    "# A pre processing function to clean the comments of stopwords and lemmatize the words\n",
    "def preprocess_text(text):\n",
    "    # remove non-alphanumeric characters\n",
    "    text = re.sub(r'[^a-zA-Z0-9]', ' ', text)\n",
    "    # convert to lowercase\n",
    "    text = text.lower()\n",
    "    # split into words\n",
    "    words = text.split()\n",
    "    # remove stopwords and lemmatize\n",
    "    words = [lemmatizer.lemmatize(word) for word in words if word not in stop_words]\n",
    "    # join the words back into a string\n",
    "    text = ' '.join(words)\n",
    "    return text"
   ]
  },
  {
   "cell_type": "code",
   "execution_count": 362,
   "id": "aa6db3b3",
   "metadata": {},
   "outputs": [],
   "source": [
    "# Applying the function to the dataframe\n",
    "TreatedComments['lemmacomment'] = TreatedComments['comment'].apply(str).apply(preprocess_text)"
   ]
  },
  {
   "cell_type": "code",
   "execution_count": 363,
   "id": "d82ce15b",
   "metadata": {},
   "outputs": [],
   "source": [
    "# Defining the X and Y variables for the model, we make sure to remove the NaN values with fillna\n",
    "X = TreatedComments.fillna('')['lemmacomment']\n",
    "Y = TreatedComments.fillna(0)['rate']\n",
    "\n",
    "X_train, X_test, Y_train, Y_test = train_test_split(X, Y, test_size=0.3, random_state=666)"
   ]
  },
  {
   "cell_type": "code",
   "execution_count": 364,
   "id": "dc72a122",
   "metadata": {},
   "outputs": [],
   "source": [
    "from sklearn.feature_extraction.text import TfidfVectorizer\n",
    "from sklearn.naive_bayes import MultinomialNB\n",
    "from sklearn.metrics import accuracy_score"
   ]
  },
  {
   "cell_type": "code",
   "execution_count": 365,
   "id": "bc62cab9",
   "metadata": {},
   "outputs": [],
   "source": [
    "# Convert the text into numerical features\n",
    "vectorizer = TfidfVectorizer()\n",
    "X_train_vec = vectorizer.fit_transform(X_train)\n",
    "X_test_vec = vectorizer.transform(X_test)\n"
   ]
  },
  {
   "cell_type": "code",
   "execution_count": 366,
   "id": "98022986",
   "metadata": {},
   "outputs": [],
   "source": [
    "# ----------------------------------------------------------------------------------------------\n",
    "# Train a Naive Bayes classifier\n",
    "clf = MultinomialNB()\n"
   ]
  },
  {
   "cell_type": "code",
   "execution_count": 367,
   "id": "10a6d694",
   "metadata": {},
   "outputs": [
    {
     "data": {
      "text/html": [
       "<style>#sk-container-id-10 {color: black;background-color: white;}#sk-container-id-10 pre{padding: 0;}#sk-container-id-10 div.sk-toggleable {background-color: white;}#sk-container-id-10 label.sk-toggleable__label {cursor: pointer;display: block;width: 100%;margin-bottom: 0;padding: 0.3em;box-sizing: border-box;text-align: center;}#sk-container-id-10 label.sk-toggleable__label-arrow:before {content: \"▸\";float: left;margin-right: 0.25em;color: #696969;}#sk-container-id-10 label.sk-toggleable__label-arrow:hover:before {color: black;}#sk-container-id-10 div.sk-estimator:hover label.sk-toggleable__label-arrow:before {color: black;}#sk-container-id-10 div.sk-toggleable__content {max-height: 0;max-width: 0;overflow: hidden;text-align: left;background-color: #f0f8ff;}#sk-container-id-10 div.sk-toggleable__content pre {margin: 0.2em;color: black;border-radius: 0.25em;background-color: #f0f8ff;}#sk-container-id-10 input.sk-toggleable__control:checked~div.sk-toggleable__content {max-height: 200px;max-width: 100%;overflow: auto;}#sk-container-id-10 input.sk-toggleable__control:checked~label.sk-toggleable__label-arrow:before {content: \"▾\";}#sk-container-id-10 div.sk-estimator input.sk-toggleable__control:checked~label.sk-toggleable__label {background-color: #d4ebff;}#sk-container-id-10 div.sk-label input.sk-toggleable__control:checked~label.sk-toggleable__label {background-color: #d4ebff;}#sk-container-id-10 input.sk-hidden--visually {border: 0;clip: rect(1px 1px 1px 1px);clip: rect(1px, 1px, 1px, 1px);height: 1px;margin: -1px;overflow: hidden;padding: 0;position: absolute;width: 1px;}#sk-container-id-10 div.sk-estimator {font-family: monospace;background-color: #f0f8ff;border: 1px dotted black;border-radius: 0.25em;box-sizing: border-box;margin-bottom: 0.5em;}#sk-container-id-10 div.sk-estimator:hover {background-color: #d4ebff;}#sk-container-id-10 div.sk-parallel-item::after {content: \"\";width: 100%;border-bottom: 1px solid gray;flex-grow: 1;}#sk-container-id-10 div.sk-label:hover label.sk-toggleable__label {background-color: #d4ebff;}#sk-container-id-10 div.sk-serial::before {content: \"\";position: absolute;border-left: 1px solid gray;box-sizing: border-box;top: 0;bottom: 0;left: 50%;z-index: 0;}#sk-container-id-10 div.sk-serial {display: flex;flex-direction: column;align-items: center;background-color: white;padding-right: 0.2em;padding-left: 0.2em;position: relative;}#sk-container-id-10 div.sk-item {position: relative;z-index: 1;}#sk-container-id-10 div.sk-parallel {display: flex;align-items: stretch;justify-content: center;background-color: white;position: relative;}#sk-container-id-10 div.sk-item::before, #sk-container-id-10 div.sk-parallel-item::before {content: \"\";position: absolute;border-left: 1px solid gray;box-sizing: border-box;top: 0;bottom: 0;left: 50%;z-index: -1;}#sk-container-id-10 div.sk-parallel-item {display: flex;flex-direction: column;z-index: 1;position: relative;background-color: white;}#sk-container-id-10 div.sk-parallel-item:first-child::after {align-self: flex-end;width: 50%;}#sk-container-id-10 div.sk-parallel-item:last-child::after {align-self: flex-start;width: 50%;}#sk-container-id-10 div.sk-parallel-item:only-child::after {width: 0;}#sk-container-id-10 div.sk-dashed-wrapped {border: 1px dashed gray;margin: 0 0.4em 0.5em 0.4em;box-sizing: border-box;padding-bottom: 0.4em;background-color: white;}#sk-container-id-10 div.sk-label label {font-family: monospace;font-weight: bold;display: inline-block;line-height: 1.2em;}#sk-container-id-10 div.sk-label-container {text-align: center;}#sk-container-id-10 div.sk-container {/* jupyter's `normalize.less` sets `[hidden] { display: none; }` but bootstrap.min.css set `[hidden] { display: none !important; }` so we also need the `!important` here to be able to override the default hidden behavior on the sphinx rendered scikit-learn.org. See: https://github.com/scikit-learn/scikit-learn/issues/21755 */display: inline-block !important;position: relative;}#sk-container-id-10 div.sk-text-repr-fallback {display: none;}</style><div id=\"sk-container-id-10\" class=\"sk-top-container\"><div class=\"sk-text-repr-fallback\"><pre>MultinomialNB()</pre><b>In a Jupyter environment, please rerun this cell to show the HTML representation or trust the notebook. <br />On GitHub, the HTML representation is unable to render, please try loading this page with nbviewer.org.</b></div><div class=\"sk-container\" hidden><div class=\"sk-item\"><div class=\"sk-estimator sk-toggleable\"><input class=\"sk-toggleable__control sk-hidden--visually\" id=\"sk-estimator-id-10\" type=\"checkbox\" checked><label for=\"sk-estimator-id-10\" class=\"sk-toggleable__label sk-toggleable__label-arrow\">MultinomialNB</label><div class=\"sk-toggleable__content\"><pre>MultinomialNB()</pre></div></div></div></div></div>"
      ],
      "text/plain": [
       "MultinomialNB()"
      ]
     },
     "execution_count": 367,
     "metadata": {},
     "output_type": "execute_result"
    }
   ],
   "source": [
    "import numpy as np\n",
    "Y_train_int = np.array(Y_train).astype(int)\n",
    "clf.fit(X_train_vec, Y_train_int)"
   ]
  },
  {
   "cell_type": "code",
   "execution_count": 368,
   "id": "99cccaa9",
   "metadata": {},
   "outputs": [],
   "source": [
    "# Predict on the test set and calculate accuracy\n",
    "Y_pred = clf.predict(X_test_vec)"
   ]
  },
  {
   "cell_type": "code",
   "execution_count": 369,
   "id": "3389ea2f",
   "metadata": {},
   "outputs": [
    {
     "name": "stdout",
     "output_type": "stream",
     "text": [
      "Accuracy: 0.6334153943313588\n"
     ]
    }
   ],
   "source": [
    "# Since the Y_test is a float, we need to convert it to int to be able to calculate the accuracy\n",
    "Y_test_int = np.array(Y_test).astype(int)\n",
    "accuracy = accuracy_score(Y_test_int, Y_pred)\n",
    "print('Accuracy:', accuracy)"
   ]
  },
  {
   "cell_type": "code",
   "execution_count": 370,
   "id": "67674e25",
   "metadata": {},
   "outputs": [
    {
     "name": "stdout",
     "output_type": "stream",
     "text": [
      "              precision    recall  f1-score   support\n",
      "\n",
      "           0       0.00      0.00      0.00       296\n",
      "           1       0.82      0.02      0.03      4243\n",
      "           2       0.00      0.00      0.00      4890\n",
      "           3       0.33      0.02      0.04     14188\n",
      "           4       0.37      0.08      0.13     41236\n",
      "           5       0.65      0.99      0.78    106158\n",
      "\n",
      "    accuracy                           0.63    171011\n",
      "   macro avg       0.36      0.18      0.16    171011\n",
      "weighted avg       0.54      0.63      0.52    171011\n",
      "\n"
     ]
    }
   ],
   "source": [
    "# Classification report\n",
    "from sklearn.metrics import classification_report\n",
    "print(classification_report(Y_test_int, Y_pred))"
   ]
  },
  {
   "cell_type": "code",
   "execution_count": 371,
   "id": "cec1bc1d",
   "metadata": {},
   "outputs": [
    {
     "name": "stdout",
     "output_type": "stream",
     "text": [
      "Predicted rate: 5\n"
     ]
    }
   ],
   "source": [
    "new_comment = 'love but have a problem'\n",
    "new_comment_vec = vectorizer.transform([new_comment])\n",
    "new_rate = clf.predict(new_comment_vec)[0]\n",
    "print('Predicted rate:', new_rate)"
   ]
  },
  {
   "cell_type": "code",
   "execution_count": 372,
   "id": "b35664a1",
   "metadata": {},
   "outputs": [],
   "source": [
    "from sklearn.feature_extraction.text import TfidfVectorizer\n",
    "from sklearn.tree import DecisionTreeClassifier\n",
    "from sklearn.metrics import accuracy_score"
   ]
  },
  {
   "cell_type": "code",
   "execution_count": 373,
   "id": "5a2d65dd",
   "metadata": {},
   "outputs": [],
   "source": [
    "# Convert the text into numerical features\n",
    "vectorizer = TfidfVectorizer()\n",
    "X_train_vec = vectorizer.fit_transform(X_train)\n",
    "X_test_vec = vectorizer.transform(X_test)"
   ]
  },
  {
   "cell_type": "code",
   "execution_count": 374,
   "id": "3121e882",
   "metadata": {},
   "outputs": [],
   "source": [
    "# ----------------------------------------------------------------------------------------------\n",
    "# Train a decision tree classifier\n",
    "clf = DecisionTreeClassifier()"
   ]
  },
  {
   "cell_type": "code",
   "execution_count": 375,
   "id": "c6691097",
   "metadata": {},
   "outputs": [
    {
     "data": {
      "text/html": [
       "<style>#sk-container-id-11 {color: black;background-color: white;}#sk-container-id-11 pre{padding: 0;}#sk-container-id-11 div.sk-toggleable {background-color: white;}#sk-container-id-11 label.sk-toggleable__label {cursor: pointer;display: block;width: 100%;margin-bottom: 0;padding: 0.3em;box-sizing: border-box;text-align: center;}#sk-container-id-11 label.sk-toggleable__label-arrow:before {content: \"▸\";float: left;margin-right: 0.25em;color: #696969;}#sk-container-id-11 label.sk-toggleable__label-arrow:hover:before {color: black;}#sk-container-id-11 div.sk-estimator:hover label.sk-toggleable__label-arrow:before {color: black;}#sk-container-id-11 div.sk-toggleable__content {max-height: 0;max-width: 0;overflow: hidden;text-align: left;background-color: #f0f8ff;}#sk-container-id-11 div.sk-toggleable__content pre {margin: 0.2em;color: black;border-radius: 0.25em;background-color: #f0f8ff;}#sk-container-id-11 input.sk-toggleable__control:checked~div.sk-toggleable__content {max-height: 200px;max-width: 100%;overflow: auto;}#sk-container-id-11 input.sk-toggleable__control:checked~label.sk-toggleable__label-arrow:before {content: \"▾\";}#sk-container-id-11 div.sk-estimator input.sk-toggleable__control:checked~label.sk-toggleable__label {background-color: #d4ebff;}#sk-container-id-11 div.sk-label input.sk-toggleable__control:checked~label.sk-toggleable__label {background-color: #d4ebff;}#sk-container-id-11 input.sk-hidden--visually {border: 0;clip: rect(1px 1px 1px 1px);clip: rect(1px, 1px, 1px, 1px);height: 1px;margin: -1px;overflow: hidden;padding: 0;position: absolute;width: 1px;}#sk-container-id-11 div.sk-estimator {font-family: monospace;background-color: #f0f8ff;border: 1px dotted black;border-radius: 0.25em;box-sizing: border-box;margin-bottom: 0.5em;}#sk-container-id-11 div.sk-estimator:hover {background-color: #d4ebff;}#sk-container-id-11 div.sk-parallel-item::after {content: \"\";width: 100%;border-bottom: 1px solid gray;flex-grow: 1;}#sk-container-id-11 div.sk-label:hover label.sk-toggleable__label {background-color: #d4ebff;}#sk-container-id-11 div.sk-serial::before {content: \"\";position: absolute;border-left: 1px solid gray;box-sizing: border-box;top: 0;bottom: 0;left: 50%;z-index: 0;}#sk-container-id-11 div.sk-serial {display: flex;flex-direction: column;align-items: center;background-color: white;padding-right: 0.2em;padding-left: 0.2em;position: relative;}#sk-container-id-11 div.sk-item {position: relative;z-index: 1;}#sk-container-id-11 div.sk-parallel {display: flex;align-items: stretch;justify-content: center;background-color: white;position: relative;}#sk-container-id-11 div.sk-item::before, #sk-container-id-11 div.sk-parallel-item::before {content: \"\";position: absolute;border-left: 1px solid gray;box-sizing: border-box;top: 0;bottom: 0;left: 50%;z-index: -1;}#sk-container-id-11 div.sk-parallel-item {display: flex;flex-direction: column;z-index: 1;position: relative;background-color: white;}#sk-container-id-11 div.sk-parallel-item:first-child::after {align-self: flex-end;width: 50%;}#sk-container-id-11 div.sk-parallel-item:last-child::after {align-self: flex-start;width: 50%;}#sk-container-id-11 div.sk-parallel-item:only-child::after {width: 0;}#sk-container-id-11 div.sk-dashed-wrapped {border: 1px dashed gray;margin: 0 0.4em 0.5em 0.4em;box-sizing: border-box;padding-bottom: 0.4em;background-color: white;}#sk-container-id-11 div.sk-label label {font-family: monospace;font-weight: bold;display: inline-block;line-height: 1.2em;}#sk-container-id-11 div.sk-label-container {text-align: center;}#sk-container-id-11 div.sk-container {/* jupyter's `normalize.less` sets `[hidden] { display: none; }` but bootstrap.min.css set `[hidden] { display: none !important; }` so we also need the `!important` here to be able to override the default hidden behavior on the sphinx rendered scikit-learn.org. See: https://github.com/scikit-learn/scikit-learn/issues/21755 */display: inline-block !important;position: relative;}#sk-container-id-11 div.sk-text-repr-fallback {display: none;}</style><div id=\"sk-container-id-11\" class=\"sk-top-container\"><div class=\"sk-text-repr-fallback\"><pre>DecisionTreeClassifier()</pre><b>In a Jupyter environment, please rerun this cell to show the HTML representation or trust the notebook. <br />On GitHub, the HTML representation is unable to render, please try loading this page with nbviewer.org.</b></div><div class=\"sk-container\" hidden><div class=\"sk-item\"><div class=\"sk-estimator sk-toggleable\"><input class=\"sk-toggleable__control sk-hidden--visually\" id=\"sk-estimator-id-11\" type=\"checkbox\" checked><label for=\"sk-estimator-id-11\" class=\"sk-toggleable__label sk-toggleable__label-arrow\">DecisionTreeClassifier</label><div class=\"sk-toggleable__content\"><pre>DecisionTreeClassifier()</pre></div></div></div></div></div>"
      ],
      "text/plain": [
       "DecisionTreeClassifier()"
      ]
     },
     "execution_count": 375,
     "metadata": {},
     "output_type": "execute_result"
    }
   ],
   "source": [
    "# Decision tree needs int values\n",
    "Y_train_int = np.array(Y_train).astype(int)\n",
    "clf.fit(X_train_vec, Y_train_int)\n"
   ]
  },
  {
   "cell_type": "code",
   "execution_count": 376,
   "id": "ff4e31bd",
   "metadata": {},
   "outputs": [],
   "source": [
    "# Predict on the test set and calculate accuracy\n",
    "Y_pred = clf.predict(X_test_vec)\n"
   ]
  },
  {
   "cell_type": "code",
   "execution_count": 377,
   "id": "7e6b0223",
   "metadata": {},
   "outputs": [
    {
     "name": "stdout",
     "output_type": "stream",
     "text": [
      "Accuracy: 0.5730625515317728\n"
     ]
    }
   ],
   "source": [
    "# Since the Y_test is a float, we need to convert it to int to be able to calculate the accuracy\n",
    "Y_test_int = np.array(Y_test).astype(int)\n",
    "accuracy = accuracy_score(Y_test_int, Y_pred)\n",
    "print('Accuracy:', accuracy)"
   ]
  },
  {
   "cell_type": "code",
   "execution_count": 378,
   "id": "a1bfb247",
   "metadata": {},
   "outputs": [
    {
     "name": "stdout",
     "output_type": "stream",
     "text": [
      "              precision    recall  f1-score   support\n",
      "\n",
      "           0       0.01      0.01      0.01       296\n",
      "           1       0.28      0.22      0.25      4243\n",
      "           2       0.16      0.11      0.13      4890\n",
      "           3       0.25      0.21      0.23     14188\n",
      "           4       0.31      0.26      0.28     41236\n",
      "           5       0.71      0.78      0.74    106158\n",
      "\n",
      "    accuracy                           0.57    171011\n",
      "   macro avg       0.28      0.26      0.27    171011\n",
      "weighted avg       0.54      0.57      0.56    171011\n",
      "\n"
     ]
    }
   ],
   "source": [
    "# Classification report\n",
    "from sklearn.metrics import classification_report\n",
    "print(classification_report(Y_test_int, Y_pred))"
   ]
  },
  {
   "cell_type": "code",
   "execution_count": 379,
   "id": "9eac9155",
   "metadata": {},
   "outputs": [
    {
     "name": "stdout",
     "output_type": "stream",
     "text": [
      "Predicted rate: 5\n"
     ]
    }
   ],
   "source": [
    "new_comment = 'love but have a problem'\n",
    "new_comment_vec = vectorizer.transform([new_comment])\n",
    "new_rate = clf.predict(new_comment_vec)[0]\n",
    "print('Predicted rate:', new_rate)"
   ]
  }
 ],
 "metadata": {
  "kernelspec": {
   "display_name": "Python 3 (ipykernel)",
   "language": "python",
   "name": "python3"
  },
  "language_info": {
   "codemirror_mode": {
    "name": "ipython",
    "version": 3
   },
   "file_extension": ".py",
   "mimetype": "text/x-python",
   "name": "python",
   "nbconvert_exporter": "python",
   "pygments_lexer": "ipython3",
   "version": "3.11.2"
  }
 },
 "nbformat": 4,
 "nbformat_minor": 5
}
